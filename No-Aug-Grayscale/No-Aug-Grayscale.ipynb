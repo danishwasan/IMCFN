{
 "cells": [
  {
   "cell_type": "code",
   "execution_count": 1,
   "metadata": {},
   "outputs": [],
   "source": [
    "import os\n",
    "os.environ[\"CUDA_DEVICE_ORDER\"] = \"PCI_BUS_ID\"   # see issue #152\n",
    "os.environ[\"CUDA_VISIBLE_DEVICES\"] = \"1\""
   ]
  },
  {
   "cell_type": "code",
   "execution_count": 2,
   "metadata": {},
   "outputs": [
    {
     "name": "stderr",
     "output_type": "stream",
     "text": [
      "Using TensorFlow backend.\n"
     ]
    }
   ],
   "source": [
    "## extra imports to set GPU options\n",
    "import tensorflow as tf\n",
    "from keras import backend as k\n",
    "\n",
    "###################################\n",
    "# TensorFlow wizardry\n",
    "config = tf.ConfigProto()\n",
    "\n",
    "# Don't pre-allocate memory; allocate as-needed\n",
    "config.gpu_options.allow_growth = True\n",
    "\n",
    "# Only allow a total of half the GPU memory to be allocated\n",
    "config.gpu_options.per_process_gpu_memory_fraction = 1 # 0.5 for Half\n",
    "\n",
    "# Create a session with the above options specified.\n",
    "k.tensorflow_backend.set_session(tf.Session(config=config))\n"
   ]
  },
  {
   "cell_type": "code",
   "execution_count": 3,
   "metadata": {},
   "outputs": [],
   "source": [
    "from keras import backend as K\n",
    "from keras.models import Sequential, Model\n",
    "from keras.layers import Activation\n",
    "from keras.layers import Dense, Flatten\n",
    "from keras.optimizers import Adam\n",
    "from keras.metrics import categorical_crossentropy\n",
    "from keras.preprocessing.image import ImageDataGenerator\n",
    "from keras.layers.normalization import BatchNormalization\n",
    "from keras.layers.convolutional import *\n",
    "from keras.models import Sequential\n",
    "from keras.layers.core import Flatten, Dense, Dropout\n",
    "from keras.layers.convolutional import Convolution2D, MaxPooling2D, ZeroPadding2D\n",
    "from keras.optimizers import SGD\n",
    "from matplotlib import pyplot as plt\n",
    "from sklearn.metrics import confusion_matrix\n",
    "from keras.utils import plot_model\n",
    "\n",
    "import tensorflow as tf\n",
    "import keras\n",
    "import seaborn as sn\n",
    "import pandas as pd\n",
    "import numpy as np\n",
    "import linecache\n",
    "import sys\n",
    "import h5py\n",
    "import itertools\n",
    "import matplotlib.pyplot as plt\n",
    "import os\n",
    "import pickle\n",
    "import matplotlib.pyplot as plt; plt.rcdefaults()\n",
    "import numpy as np\n",
    "import matplotlib.pyplot as plt"
   ]
  },
  {
   "cell_type": "code",
   "execution_count": 4,
   "metadata": {},
   "outputs": [
    {
     "data": {
      "text/plain": [
       "'1.9.0'"
      ]
     },
     "execution_count": 4,
     "metadata": {},
     "output_type": "execute_result"
    }
   ],
   "source": [
    "tf.__version__"
   ]
  },
  {
   "cell_type": "code",
   "execution_count": 5,
   "metadata": {},
   "outputs": [],
   "source": [
    "train_path = '/data/danish/Data/Malimg-Gray-25-Families/Malimg_Grayscale_train/'\n",
    "test_path  = '/data/danish/Data/Malimg-Gray-25-Families/Malimg_Grayscale_test/'"
   ]
  },
  {
   "cell_type": "code",
   "execution_count": 6,
   "metadata": {},
   "outputs": [],
   "source": [
    "datagen_train = ImageDataGenerator(\n",
    "      rescale=1./255#,\n",
    "      #rotation_range=0.1,#180,\n",
    "      #width_shift_range=0.1,\n",
    "      #height_shift_range=0.1,\n",
    "      #shear_range=0.1,\n",
    "      #zoom_range=0.1,#[0.9, 1.5],\n",
    "      #horizontal_flip=True,\n",
    "      #vertical_flip=True,\n",
    "      #fill_mode='nearest'\n",
    "                )\n",
    "\n",
    "datagen_test = ImageDataGenerator(rescale=1./255)\n"
   ]
  },
  {
   "cell_type": "code",
   "execution_count": 7,
   "metadata": {},
   "outputs": [],
   "source": [
    "if False:\n",
    "    save_to_dir='augmented_images/'\n",
    "else:\n",
    "    save_to_dir = None"
   ]
  },
  {
   "cell_type": "code",
   "execution_count": 8,
   "metadata": {},
   "outputs": [
    {
     "data": {
      "text/plain": [
       "'Deep_Learning_Model_for_Malimg_size_GrayScale=(224, 224)'"
      ]
     },
     "execution_count": 8,
     "metadata": {},
     "output_type": "execute_result"
    }
   ],
   "source": [
    "input_shape=(224,224)\n",
    "batch_size=32\n",
    "save_fn='Deep_Learning_Model_for_Malimg_size_GrayScale='+str(input_shape[:])\n",
    "save_fn"
   ]
  },
  {
   "cell_type": "code",
   "execution_count": 9,
   "metadata": {},
   "outputs": [
    {
     "name": "stdout",
     "output_type": "stream",
     "text": [
      "Found 6527 images belonging to 25 classes.\n",
      "Steps for Training 203.96875\n",
      "[ 0  0  0 ..., 24 24 24]\n",
      "['Adialer.C', 'Agent.FYI', 'Allaple.A', 'Allaple.L', 'Alueron.gen!J', 'Autorun.K', 'C2LOP.P', 'C2LOP.gen!g', 'Dialplatform.B', 'Dontovo.A', 'Fakerean', 'Instantaccess', 'Lolyda.AA1', 'Lolyda.AA2', 'Lolyda.AA3', 'Lolyda.AT', 'Malex.gen!J', 'ObfuscatorAD', 'Rbot!gen', 'Skintrim.N', 'Swizzorgen!E', 'Swizzorgen!I', 'VB.AT', 'Wintrim.BX', 'Yuner.A']\n",
      "Number of Classes in Training Data 25\n"
     ]
    }
   ],
   "source": [
    "generator_train = datagen_train.flow_from_directory(directory=train_path,\n",
    "                                                    target_size=input_shape,\n",
    "                                                    batch_size=batch_size,\n",
    "                                                    shuffle=True,\n",
    "                                                    save_to_dir=save_to_dir,\n",
    "                                                    seed=42)\n",
    "\n",
    "\n",
    "steps_train = generator_train.n/ batch_size\n",
    "print(\"Steps for Training\",steps_train)\n",
    "\n",
    "cls_train = generator_train.classes\n",
    "print(cls_train)\n",
    "cls_names_train = list(generator_train.class_indices.keys())\n",
    "print(cls_names_train)\n",
    "num_cls_train = len(cls_names_train)\n",
    "print(\"Number of Classes in Training Data\",num_cls_train)"
   ]
  },
  {
   "cell_type": "code",
   "execution_count": 10,
   "metadata": {},
   "outputs": [],
   "source": [
    "from sklearn.utils.class_weight import compute_class_weight\n",
    "class_weight_train = compute_class_weight(class_weight='balanced',\n",
    "                                    classes=np.unique(cls_train),\n",
    "                                    y=cls_train)"
   ]
  },
  {
   "cell_type": "raw",
   "metadata": {},
   "source": [
    "class_dictionary_train = generator_train.class_indices\n",
    "class_dictionary_train"
   ]
  },
  {
   "cell_type": "code",
   "execution_count": 11,
   "metadata": {},
   "outputs": [
    {
     "data": {
      "text/plain": [
       "['AdialerC',\n",
       " 'AgentFYI',\n",
       " 'AllapleA',\n",
       " 'AllapleL',\n",
       " 'Aluerongen!J',\n",
       " 'AutorunK',\n",
       " 'C2LOPP',\n",
       " 'C2LOPgen!g',\n",
       " 'DialplatformB',\n",
       " 'DontovoA',\n",
       " 'Fakerean',\n",
       " 'Instantaccess',\n",
       " 'LolydaAA1',\n",
       " 'LolydaAA2',\n",
       " 'LolydaAA3',\n",
       " 'LolydaAT',\n",
       " 'Malexgen!J',\n",
       " 'ObfuscatorAD',\n",
       " 'Rbot!gen',\n",
       " 'SkintrimN',\n",
       " 'Swizzorgen!E',\n",
       " 'Swizzorgen!I',\n",
       " 'VBAT',\n",
       " 'WintrimBX',\n",
       " 'YunerA']"
      ]
     },
     "execution_count": 11,
     "metadata": {},
     "output_type": "execute_result"
    }
   ],
   "source": [
    "#cls_names_train\n",
    "class_labels = ['AdialerC','AgentFYI','AllapleA','AllapleL','Aluerongen!J','AutorunK','C2LOPP','C2LOPgen!g','DialplatformB','DontovoA',\n",
    " 'Fakerean','Instantaccess','LolydaAA1','LolydaAA2','LolydaAA3','LolydaAT','Malexgen!J','ObfuscatorAD','Rbot!gen','SkintrimN',\n",
    " 'Swizzorgen!E','Swizzorgen!I','VBAT','WintrimBX','YunerA']\n",
    "class_labels"
   ]
  },
  {
   "cell_type": "code",
   "execution_count": 12,
   "metadata": {},
   "outputs": [
    {
     "name": "stdout",
     "output_type": "stream",
     "text": [
      "Found 2812 images belonging to 25 classes.\n",
      "Steps for Test 87.875\n",
      "[ 0  0  0 ..., 24 24 24]\n",
      "['Adialer.C', 'Agent.FYI', 'Allaple.A', 'Allaple.L', 'Alueron.gen!J', 'Autorun.K', 'C2LOP.P', 'C2LOP.gen!g', 'Dialplatform.B', 'Dontovo.A', 'Fakerean', 'Instantaccess', 'Lolyda.AA1', 'Lolyda.AA2', 'Lolyda.AA3', 'Lolyda.AT', 'Malex.gen!J', 'ObfuscatorAD', 'Rbot!gen', 'Skintrim.N', 'Swizzorgen!E', 'Swizzorgen!I', 'VB.AT', 'Wintrim.BX', 'Yuner.A']\n",
      "Number of Classes in Test Data 25\n"
     ]
    }
   ],
   "source": [
    "generator_test = datagen_test.flow_from_directory(directory=test_path,\n",
    "                                                  target_size=input_shape,\n",
    "                                                  class_mode='categorical',\n",
    "                                                  batch_size=batch_size,\n",
    "                                                  shuffle=False,\n",
    "                                                  seed=42)\n",
    "\n",
    "steps_test = generator_test.n / batch_size\n",
    "steps_test\n",
    "print(\"Steps for Test\",steps_test)\n",
    "\n",
    "cls_test = generator_test.classes\n",
    "print(cls_test)\n",
    "cls_names_test = list(generator_test.class_indices.keys())\n",
    "print(cls_names_test)\n",
    "num_cls_test = len(cls_names_test)\n",
    "print(\"Number of Classes in Test Data\",num_cls_test)"
   ]
  },
  {
   "cell_type": "raw",
   "metadata": {},
   "source": [
    "class_dictionary_test = generator_test.class_indices\n",
    "class_dictionary_test"
   ]
  },
  {
   "cell_type": "code",
   "execution_count": 13,
   "metadata": {},
   "outputs": [],
   "source": [
    "model_ = keras.applications.vgg16.VGG16()#include_top=True, weights=None, input_tensor=None, input_shape=(224,224,1), classes=num_cls_train)"
   ]
  },
  {
   "cell_type": "code",
   "execution_count": 14,
   "metadata": {},
   "outputs": [],
   "source": [
    "transfer_layer = model_.get_layer('fc2')"
   ]
  },
  {
   "cell_type": "code",
   "execution_count": 15,
   "metadata": {},
   "outputs": [
    {
     "data": {
      "text/plain": [
       "<tf.Tensor 'fc2/Relu:0' shape=(?, 4096) dtype=float32>"
      ]
     },
     "execution_count": 15,
     "metadata": {},
     "output_type": "execute_result"
    }
   ],
   "source": [
    "transfer_layer.output"
   ]
  },
  {
   "cell_type": "code",
   "execution_count": 16,
   "metadata": {},
   "outputs": [],
   "source": [
    "conv_model = Model(inputs=model_.input,\n",
    "                   outputs=transfer_layer.output)"
   ]
  },
  {
   "cell_type": "code",
   "execution_count": 17,
   "metadata": {},
   "outputs": [
    {
     "name": "stdout",
     "output_type": "stream",
     "text": [
      "_________________________________________________________________\n",
      "Layer (type)                 Output Shape              Param #   \n",
      "=================================================================\n",
      "input_1 (InputLayer)         (None, 224, 224, 3)       0         \n",
      "_________________________________________________________________\n",
      "block1_conv1 (Conv2D)        (None, 224, 224, 64)      1792      \n",
      "_________________________________________________________________\n",
      "block1_conv2 (Conv2D)        (None, 224, 224, 64)      36928     \n",
      "_________________________________________________________________\n",
      "block1_pool (MaxPooling2D)   (None, 112, 112, 64)      0         \n",
      "_________________________________________________________________\n",
      "block2_conv1 (Conv2D)        (None, 112, 112, 128)     73856     \n",
      "_________________________________________________________________\n",
      "block2_conv2 (Conv2D)        (None, 112, 112, 128)     147584    \n",
      "_________________________________________________________________\n",
      "block2_pool (MaxPooling2D)   (None, 56, 56, 128)       0         \n",
      "_________________________________________________________________\n",
      "block3_conv1 (Conv2D)        (None, 56, 56, 256)       295168    \n",
      "_________________________________________________________________\n",
      "block3_conv2 (Conv2D)        (None, 56, 56, 256)       590080    \n",
      "_________________________________________________________________\n",
      "block3_conv3 (Conv2D)        (None, 56, 56, 256)       590080    \n",
      "_________________________________________________________________\n",
      "block3_pool (MaxPooling2D)   (None, 28, 28, 256)       0         \n",
      "_________________________________________________________________\n",
      "block4_conv1 (Conv2D)        (None, 28, 28, 512)       1180160   \n",
      "_________________________________________________________________\n",
      "block4_conv2 (Conv2D)        (None, 28, 28, 512)       2359808   \n",
      "_________________________________________________________________\n",
      "block4_conv3 (Conv2D)        (None, 28, 28, 512)       2359808   \n",
      "_________________________________________________________________\n",
      "block4_pool (MaxPooling2D)   (None, 14, 14, 512)       0         \n",
      "_________________________________________________________________\n",
      "block5_conv1 (Conv2D)        (None, 14, 14, 512)       2359808   \n",
      "_________________________________________________________________\n",
      "block5_conv2 (Conv2D)        (None, 14, 14, 512)       2359808   \n",
      "_________________________________________________________________\n",
      "block5_conv3 (Conv2D)        (None, 14, 14, 512)       2359808   \n",
      "_________________________________________________________________\n",
      "block5_pool (MaxPooling2D)   (None, 7, 7, 512)         0         \n",
      "_________________________________________________________________\n",
      "flatten (Flatten)            (None, 25088)             0         \n",
      "_________________________________________________________________\n",
      "fc1 (Dense)                  (None, 4096)              102764544 \n",
      "_________________________________________________________________\n",
      "fc2 (Dense)                  (None, 4096)              16781312  \n",
      "=================================================================\n",
      "Total params: 134,260,544\n",
      "Trainable params: 134,260,544\n",
      "Non-trainable params: 0\n",
      "_________________________________________________________________\n"
     ]
    }
   ],
   "source": [
    "conv_model.summary()"
   ]
  },
  {
   "cell_type": "code",
   "execution_count": 18,
   "metadata": {},
   "outputs": [
    {
     "name": "stdout",
     "output_type": "stream",
     "text": [
      "True\n",
      "True\n",
      "True\n",
      "True\n",
      "True\n",
      "True\n"
     ]
    }
   ],
   "source": [
    "for layer in conv_model.layers:\n",
    "    \n",
    "    \n",
    "    # Boolean whether this layer is trainable.\n",
    "    trainable = ('fc1' in layer.name or 'fc2' in layer.name or 'block1' in layer.name or 'block2' in layer.name or 'block3' in layer.name or 'block4' in layer.name or 'block5' in layer.name) # or 'block6' in layer.name or 'block7' in layer.name or 'block8' in layer.name or 'block9' in layer.name or 'block10' in layer.name or 'block11' in layer.name or 'block12' in layer.name or 'block13' in layer.name or 'block14' in layer.name)\n",
    "    \n",
    "    if trainable:\n",
    "        layer.trainable = False #trainable\n",
    "        #print(\"False\")\n",
    "        \n",
    "    trainable_ = ('fc1' in layer.name or 'fc2' in layer.name or 'block5' in layer.name) #or 'block5' in layer.name or 'block6' in layer.name or 'block7' in layer.name or 'block8' in layer.name or 'block9' in layer.name or 'block10' in layer.name or 'block11' in layer.name or 'block12' in layer.name or 'block13' in layer.name or 'block14' in layer.name)\n",
    "    \n",
    "    if trainable_:\n",
    "        # Set the layer's bool.\n",
    "        layer.trainable = trainable_\n",
    "        print(trainable_)"
   ]
  },
  {
   "cell_type": "code",
   "execution_count": 19,
   "metadata": {},
   "outputs": [
    {
     "name": "stdout",
     "output_type": "stream",
     "text": [
      "False:\tinput_1\n",
      "False:\tblock1_conv1\n",
      "False:\tblock1_conv2\n",
      "False:\tblock1_pool\n",
      "False:\tblock2_conv1\n",
      "False:\tblock2_conv2\n",
      "False:\tblock2_pool\n",
      "False:\tblock3_conv1\n",
      "False:\tblock3_conv2\n",
      "False:\tblock3_conv3\n",
      "False:\tblock3_pool\n",
      "False:\tblock4_conv1\n",
      "False:\tblock4_conv2\n",
      "False:\tblock4_conv3\n",
      "False:\tblock4_pool\n",
      "True:\tblock5_conv1\n",
      "True:\tblock5_conv2\n",
      "True:\tblock5_conv3\n",
      "True:\tblock5_pool\n",
      "True:\tflatten\n",
      "True:\tfc1\n",
      "True:\tfc2\n"
     ]
    }
   ],
   "source": [
    "def print_layer_trainable():\n",
    "    for layer in conv_model.layers:\n",
    "        print(\"{0}:\\t{1}\".format(layer.trainable, layer.name))\n",
    "print_layer_trainable()"
   ]
  },
  {
   "cell_type": "code",
   "execution_count": 20,
   "metadata": {},
   "outputs": [],
   "source": [
    "# Start a new Keras Sequential model.\n",
    "model = Sequential()\n",
    "\n",
    "# Add the convolutional part of the VGG16 model from above.\n",
    "model.add(conv_model)\n",
    "\n",
    "# Flatten the output of the VGG16 model because it is from a\n",
    "# convolutional layer.\n",
    "#model.add(Flatten())\n",
    "\n",
    "# Add a dense (aka. fully-connected) layer.\n",
    "# This is for combining features that the VGG16 model has\n",
    "# recognized in the image.\n",
    "#model.add(Dense(1024, activation='relu'))\n",
    "\n",
    "# Add a dropout-layer which may prevent overfitting and\n",
    "# improve generalization ability to unseen data e.g. the test-set.\n",
    "model.add(Dropout(0.5))\n",
    "\n",
    "# Add the final layer for the actual classification.\n",
    "model.add(Dense(num_cls_train, activation='softmax'))"
   ]
  },
  {
   "cell_type": "code",
   "execution_count": 21,
   "metadata": {},
   "outputs": [
    {
     "name": "stdout",
     "output_type": "stream",
     "text": [
      "_________________________________________________________________\n",
      "Layer (type)                 Output Shape              Param #   \n",
      "=================================================================\n",
      "model_1 (Model)              (None, 4096)              134260544 \n",
      "_________________________________________________________________\n",
      "dropout_1 (Dropout)          (None, 4096)              0         \n",
      "_________________________________________________________________\n",
      "dense_1 (Dense)              (None, 25)                102425    \n",
      "=================================================================\n",
      "Total params: 134,362,969\n",
      "Trainable params: 126,727,705\n",
      "Non-trainable params: 7,635,264\n",
      "_________________________________________________________________\n"
     ]
    }
   ],
   "source": [
    "model.summary()"
   ]
  },
  {
   "cell_type": "raw",
   "metadata": {},
   "source": [
    "plot_model(model, to_file=save_fn+'_Diagram.png', show_shapes=True)"
   ]
  },
  {
   "cell_type": "code",
   "execution_count": 22,
   "metadata": {},
   "outputs": [],
   "source": [
    "from keras.models import load_model\n",
    "\n",
    "#model = load_model('IMCFN-Grayscale.h5')\n",
    "model.compile(Adam(lr=0.0001),loss='categorical_crossentropy', metrics=['accuracy'])\n"
   ]
  },
  {
   "cell_type": "code",
   "execution_count": 23,
   "metadata": {},
   "outputs": [],
   "source": [
    "epochs =10\n",
    "steps_per_epoch=steps_train"
   ]
  },
  {
   "cell_type": "code",
   "execution_count": 24,
   "metadata": {},
   "outputs": [
    {
     "name": "stdout",
     "output_type": "stream",
     "text": [
      "Epoch 1/10\n",
      "204/203 [==============================] - 58s 282ms/step - loss: 0.5140 - acc: 0.8684 - val_loss: 0.1531 - val_acc: 0.9502\n",
      "Epoch 2/10\n",
      "204/203 [==============================] - 45s 220ms/step - loss: 0.1115 - acc: 0.9632 - val_loss: 0.1060 - val_acc: 0.9683\n",
      "Epoch 3/10\n",
      "204/203 [==============================] - 45s 221ms/step - loss: 0.0880 - acc: 0.9712 - val_loss: 0.0942 - val_acc: 0.9701\n",
      "Epoch 4/10\n",
      "204/203 [==============================] - 45s 220ms/step - loss: 0.0616 - acc: 0.9798 - val_loss: 0.1368 - val_acc: 0.9552\n",
      "Epoch 5/10\n",
      "204/203 [==============================] - 45s 221ms/step - loss: 0.0774 - acc: 0.9802 - val_loss: 0.0704 - val_acc: 0.9762\n",
      "Epoch 6/10\n",
      "204/203 [==============================] - 45s 221ms/step - loss: 0.0522 - acc: 0.9867 - val_loss: 0.0657 - val_acc: 0.9819\n",
      "Epoch 7/10\n",
      "204/203 [==============================] - 44s 218ms/step - loss: 0.0339 - acc: 0.9891 - val_loss: 0.0918 - val_acc: 0.9758\n",
      "Epoch 8/10\n",
      "204/203 [==============================] - 45s 220ms/step - loss: 0.0228 - acc: 0.9902 - val_loss: 0.0758 - val_acc: 0.9819\n",
      "Epoch 9/10\n",
      "204/203 [==============================] - 44s 218ms/step - loss: 0.0175 - acc: 0.9942 - val_loss: 0.0712 - val_acc: 0.9854\n",
      "Epoch 10/10\n",
      "204/203 [==============================] - 45s 221ms/step - loss: 0.0133 - acc: 0.9952 - val_loss: 0.0912 - val_acc: 0.9804\n"
     ]
    }
   ],
   "source": [
    "\n",
    "\n",
    "history = model.fit_generator(generator=generator_train,\n",
    "                                epochs=epochs,\n",
    "                                steps_per_epoch=steps_per_epoch,\n",
    "                                validation_data=generator_test,\n",
    "                                validation_steps=steps_test\n",
    "                                )\n",
    "\n",
    "\n"
   ]
  },
  {
   "cell_type": "code",
   "execution_count": 25,
   "metadata": {},
   "outputs": [],
   "source": [
    "model.save(\"No-Aug-Grayscale.h5\")"
   ]
  },
  {
   "cell_type": "code",
   "execution_count": 26,
   "metadata": {},
   "outputs": [],
   "source": [
    "#####################################\n",
    "# write Traning History to a file\n",
    "output = open('No-Aug-Grayscale-History.pkl', 'wb')\n",
    "pickle.dump(history.history, output)\n",
    "output.close()\n",
    "#####################################"
   ]
  },
  {
   "cell_type": "code",
   "execution_count": 27,
   "metadata": {},
   "outputs": [],
   "source": [
    "\n",
    "# read Traning History back from the file\n",
    "pkl_file = open('No-Aug-Grayscale-History.pkl', 'rb')\n",
    "history = pickle.load(pkl_file)\n",
    "pkl_file.close()"
   ]
  },
  {
   "cell_type": "code",
   "execution_count": 28,
   "metadata": {},
   "outputs": [],
   "source": [
    "import pandas as pd\n",
    "# convert the history.history dict to a pandas DataFrame:     \n",
    "hist_df = pd.DataFrame(history) \n",
    "\n",
    "csv_file = 'No-Aug-Grayscale.csv'\n",
    "with open(csv_file, mode='w') as f:\n",
    "    hist_df.to_csv(f)"
   ]
  },
  {
   "cell_type": "code",
   "execution_count": 29,
   "metadata": {},
   "outputs": [
    {
     "name": "stdout",
     "output_type": "stream",
     "text": [
      "88/88 [==============================] - 11s 129ms/step\n",
      "acc: 98.04%\n"
     ]
    }
   ],
   "source": [
    "#scores = model.evaluate(X[test], Y[test], verbose=0)\n",
    "#model.load_weights('Model_VGG16_Malimg_RGB_Trained_(229, 229)_Epochs=100_Model_Traning_Testing_Weights.hdf5')\n",
    "scores = model.evaluate_generator(generator_test, verbose=1)# steps_test, max_queue_size=10, workers=1, use_multiprocessing=False,verbose=1)\n",
    "print(\"%s: %.2f%%\" % (model.metrics_names[1], scores[1]*100))"
   ]
  },
  {
   "cell_type": "code",
   "execution_count": 30,
   "metadata": {},
   "outputs": [
    {
     "name": "stdout",
     "output_type": "stream",
     "text": [
      "88/88 [==============================] - 11s 130ms/step\n"
     ]
    }
   ],
   "source": [
    "cls_pred = model.predict_generator(generator_test, verbose=1)#, steps_test, max_queue_size=10, workers=1, use_multiprocessing=False, verbose=1)"
   ]
  },
  {
   "cell_type": "code",
   "execution_count": 31,
   "metadata": {},
   "outputs": [],
   "source": [
    "cls_pred = np.argmax(cls_pred, axis=1)"
   ]
  },
  {
   "cell_type": "code",
   "execution_count": 32,
   "metadata": {},
   "outputs": [],
   "source": [
    "y_test = cls_test = generator_test.classes\n",
    "\n",
    "from pycm import ConfusionMatrix\n",
    "CM_IMCFN = ConfusionMatrix(y_test,cls_pred)\n",
    "file = open('CM-No-Aug-Grayscale.pkl', 'wb')\n",
    "pickle.dump(CM_IMCFN, file)\n",
    "file.close()"
   ]
  },
  {
   "cell_type": "code",
   "execution_count": 33,
   "metadata": {},
   "outputs": [],
   "source": [
    "# write Traning History to a file\n",
    "file = open('CM-No-Aug-Grayscale.pkl', 'rb')\n",
    "CM_IMCFN = pickle.load(file)\n",
    "file.close()"
   ]
  },
  {
   "cell_type": "code",
   "execution_count": 34,
   "metadata": {},
   "outputs": [
    {
     "name": "stdout",
     "output_type": "stream",
     "text": [
      "Overall Statistics : \n",
      "\n",
      "ACC Macro                                                         0.99844\n",
      "F1 Macro                                                          0.95258\n",
      "Kappa                                                             0.97709\n",
      "Overall ACC                                                       0.98044\n",
      "PPV Macro                                                         0.95464\n",
      "SOA1(Landis & Koch)                                               Almost Perfect\n",
      "TPR Macro                                                         0.95211\n",
      "Zero-one Loss                                                     55\n",
      "\n",
      "Class Statistics :\n",
      "\n",
      "Classes                                                           0             1             10            11            12            13            14            15            16            17            18            19            2             20            21            22            23            24            3             4             5             6             7             8             9             \n",
      "ACC(Accuracy)                                                     1.0           1.0           0.99964       1.0           0.99893       0.99893       1.0           1.0           0.99964       1.0           1.0           1.0           0.99929       0.98755       0.98755       1.0           1.0           1.0           1.0           1.0           1.0           0.99573       0.99431       0.99929       1.0           \n",
      "AUC(Area under the ROC curve)                                     1.0           1.0           0.99565       1.0           0.98419       0.99071       1.0           1.0           0.9878        1.0           1.0           1.0           0.99948       0.82937       0.80889       1.0           1.0           1.0           1.0           1.0           1.0           0.93073       0.88297       0.98148       1.0           \n",
      "AUCI(AUC value interpretation)                                    Excellent     Excellent     Excellent     Excellent     Excellent     Excellent     Excellent     Excellent     Excellent     Excellent     Excellent     Excellent     Excellent     Very Good     Very Good     Excellent     Excellent     Excellent     Excellent     Excellent     Excellent     Excellent     Very Good     Excellent     Excellent     \n",
      "F1(F1 score - harmonic mean of precision and sensitivity)         1.0           1.0           0.99563       1.0           0.97638       0.97345       1.0           1.0           0.98765       1.0           1.0           1.0           0.99887       0.5977        0.58824       1.0           1.0           1.0           1.0           1.0           1.0           0.86364       0.85185       0.98113       1.0           \n",
      "FN(False negative/miss/type 2 error)                              0             0             1             0             2             1             0             0             1             0             0             0             0             13            15            0             0             0             0             0             0             6             14            2             0             \n",
      "FP(False positive/type 1 error/false alarm)                       0             0             0             0             1             2             0             0             0             0             0             0             2             22            20            0             0             0             0             0             0             6             2             0             0             \n",
      "N(Condition negative)                                             2775          2777          2697          2682          2748          2756          2775          2764          2771          2769          2764          2788          1927          2773          2772          2689          2782          2572          2334          2752          2780          2768          2752          2758          2763          \n",
      "P(Condition positive or support)                                  37            35            115           130           64            56            37            48            41            43            48            24            885           39            40            123           30            240           478           60            32            44            60            54            49            \n",
      "POP(Population)                                                   2812          2812          2812          2812          2812          2812          2812          2812          2812          2812          2812          2812          2812          2812          2812          2812          2812          2812          2812          2812          2812          2812          2812          2812          2812          \n",
      "PPV(Precision or positive predictive value)                       1.0           1.0           1.0           1.0           0.98413       0.96491       1.0           1.0           1.0           1.0           1.0           1.0           0.99775       0.54167       0.55556       1.0           1.0           1.0           1.0           1.0           1.0           0.86364       0.95833       1.0           1.0           \n",
      "TN(True negative/correct rejection)                               2775          2777          2697          2682          2747          2754          2775          2764          2771          2769          2764          2788          1925          2751          2752          2689          2782          2572          2334          2752          2780          2762          2750          2758          2763          \n",
      "TON(Test outcome negative)                                        2775          2777          2698          2682          2749          2755          2775          2764          2772          2769          2764          2788          1925          2764          2767          2689          2782          2572          2334          2752          2780          2768          2764          2760          2763          \n",
      "TOP(Test outcome positive)                                        37            35            114           130           63            57            37            48            40            43            48            24            887           48            45            123           30            240           478           60            32            44            48            52            49            \n",
      "TP(True positive/hit)                                             37            35            114           130           62            55            37            48            40            43            48            24            885           26            25            123           30            240           478           60            32            38            46            52            49            \n",
      "TPR(Sensitivity, recall, hit rate, or true positive rate)         1.0           1.0           0.9913        1.0           0.96875       0.98214       1.0           1.0           0.97561       1.0           1.0           1.0           1.0           0.66667       0.625         1.0           1.0           1.0           1.0           1.0           1.0           0.86364       0.76667       0.96296       1.0           \n",
      "\n"
     ]
    },
    {
     "name": "stderr",
     "output_type": "stream",
     "text": [
      "/home/danish/anaconda3/envs/tf/lib/python3.6/site-packages/pycm/pycm_obj.py:167: RuntimeWarning: The confusion matrix is a high dimension matrix and won't be demonstrated properly.\n",
      "The save_csv method can be used to save the confusion matrix in csv format and have a better demonstration of it.\n",
      "  warn(CLASS_NUMBER_WARNING, RuntimeWarning)\n"
     ]
    }
   ],
   "source": [
    "CM_IMCFN.stat(summary=True)"
   ]
  },
  {
   "cell_type": "code",
   "execution_count": 35,
   "metadata": {},
   "outputs": [
    {
     "data": {
      "text/plain": [
       "{'Status': True,\n",
       " 'Message': '/data/danish/ImgProPython/TensorFlow-Tutorials/Computer-Networks-(CCF-B)/No-Aug-Grayscale/CM-No-Aug-Grayscale.csv'}"
      ]
     },
     "execution_count": 35,
     "metadata": {},
     "output_type": "execute_result"
    }
   ],
   "source": [
    "CM_IMCFN.save_csv(\"CM-No-Aug-Grayscale\",address=True)"
   ]
  },
  {
   "cell_type": "code",
   "execution_count": 36,
   "metadata": {},
   "outputs": [
    {
     "name": "stdout",
     "output_type": "stream",
     "text": [
      "All Classes\n",
      "Precision:  [ 1.          1.          0.99774521  1.          1.          1.\n",
      "  0.86363636  0.95833333  1.          1.          1.          1.\n",
      "  0.98412698  0.96491228  1.          1.          1.          1.          1.\n",
      "  1.          0.54166667  0.55555556  1.          1.          1.        ]\n",
      "Recall:  [ 1.          1.          1.          1.          1.          1.\n",
      "  0.86363636  0.76666667  0.96296296  1.          0.99130435  1.          0.96875\n",
      "  0.98214286  1.          1.          0.97560976  1.          1.          1.\n",
      "  0.66666667  0.625       1.          1.          1.        ]\n",
      "F1 score:  [ 1.          1.          0.99887133  1.          1.          1.\n",
      "  0.86363636  0.85185185  0.98113208  1.          0.99563319  1.\n",
      "  0.97637795  0.97345133  1.          1.          0.98765432  1.          1.\n",
      "  1.          0.59770115  0.58823529  1.          1.          1.        ]\n",
      "CPU times: user 14.9 ms, sys: 3.87 ms, total: 18.7 ms\n",
      "Wall time: 15.3 ms\n"
     ]
    }
   ],
   "source": [
    "%%time\n",
    "from sklearn.metrics import precision_recall_fscore_support, accuracy_score\n",
    "cls_true = cls_test = generator_test.classes\n",
    "accuracy = accuracy_score(cls_true, cls_pred)\n",
    "precision, recall, f1_score, _ = precision_recall_fscore_support(cls_true, cls_pred, average=None)\n",
    "\n",
    "print(\"All Classes\")\n",
    "print(\"Precision: \", precision)\n",
    "print(\"Recall: \", recall)\n",
    "print(\"F1 score: \", f1_score)"
   ]
  },
  {
   "cell_type": "code",
   "execution_count": 37,
   "metadata": {},
   "outputs": [
    {
     "name": "stdout",
     "output_type": "stream",
     "text": [
      "Micro\n",
      "Precision:  0.980440967283\n",
      "Recall:  0.980440967283\n",
      "F1 score:  0.980440967283\n",
      "CPU times: user 12.1 ms, sys: 542 µs, total: 12.6 ms\n",
      "Wall time: 24 ms\n"
     ]
    }
   ],
   "source": [
    "%%time\n",
    "from sklearn.metrics import precision_recall_fscore_support, accuracy_score\n",
    "cls_true = cls_test = generator_test.classes\n",
    "accuracy = accuracy_score(cls_true, cls_pred)\n",
    "precision, recall, f1_score, _ = precision_recall_fscore_support(cls_true, cls_pred, average='micro')\n",
    "\n",
    "print(\"Micro\")\n",
    "print(\"Precision: \", precision)\n",
    "print(\"Recall: \", recall)\n",
    "print(\"F1 score: \", f1_score)"
   ]
  },
  {
   "cell_type": "code",
   "execution_count": 38,
   "metadata": {},
   "outputs": [
    {
     "name": "stdout",
     "output_type": "stream",
     "text": [
      "Macro\n",
      "Precision:  0.954639055704\n",
      "Recall:  0.95210958484\n",
      "F1 score:  0.952581794211\n",
      "CPU times: user 4.89 ms, sys: 3.61 ms, total: 8.5 ms\n",
      "Wall time: 8.44 ms\n"
     ]
    }
   ],
   "source": [
    "%%time\n",
    "from sklearn.metrics import precision_recall_fscore_support, accuracy_score\n",
    "cls_true = cls_test = generator_test.classes\n",
    "accuracy = accuracy_score(cls_true, cls_pred)\n",
    "precision, recall, f1_score, _ = precision_recall_fscore_support(cls_true, cls_pred, average='macro')\n",
    "\n",
    "print(\"Macro\")\n",
    "print(\"Precision: \", precision)\n",
    "print(\"Recall: \", recall)\n",
    "print(\"F1 score: \", f1_score)"
   ]
  },
  {
   "cell_type": "code",
   "execution_count": 39,
   "metadata": {},
   "outputs": [
    {
     "name": "stdout",
     "output_type": "stream",
     "text": [
      "weighted\n",
      "Precision:  0.982528786098\n",
      "Recall:  0.980440967283\n",
      "F1 score:  0.9811259728\n",
      "CPU times: user 5.72 ms, sys: 0 ns, total: 5.72 ms\n",
      "Wall time: 6.95 ms\n"
     ]
    }
   ],
   "source": [
    "%%time\n",
    "from sklearn.metrics import precision_recall_fscore_support, accuracy_score\n",
    "cls_true = cls_test = generator_test.classes\n",
    "accuracy = accuracy_score(cls_true, cls_pred)\n",
    "precision, recall, f1_score, _ = precision_recall_fscore_support(cls_true, cls_pred, average='weighted')\n",
    "\n",
    "print(\"weighted\")\n",
    "print(\"Precision: \", precision)\n",
    "print(\"Recall: \", recall)\n",
    "print(\"F1 score: \", f1_score)"
   ]
  },
  {
   "cell_type": "code",
   "execution_count": null,
   "metadata": {},
   "outputs": [],
   "source": []
  },
  {
   "cell_type": "code",
   "execution_count": null,
   "metadata": {},
   "outputs": [],
   "source": []
  },
  {
   "cell_type": "code",
   "execution_count": null,
   "metadata": {},
   "outputs": [],
   "source": []
  },
  {
   "cell_type": "code",
   "execution_count": null,
   "metadata": {},
   "outputs": [],
   "source": []
  }
 ],
 "metadata": {
  "kernelspec": {
   "display_name": "Python 3",
   "language": "python",
   "name": "python3"
  },
  "language_info": {
   "codemirror_mode": {
    "name": "ipython",
    "version": 3
   },
   "file_extension": ".py",
   "mimetype": "text/x-python",
   "name": "python",
   "nbconvert_exporter": "python",
   "pygments_lexer": "ipython3",
   "version": "3.6.0"
  }
 },
 "nbformat": 4,
 "nbformat_minor": 2
}
