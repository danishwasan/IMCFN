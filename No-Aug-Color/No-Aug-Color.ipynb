{
 "cells": [
  {
   "cell_type": "code",
   "execution_count": 1,
   "metadata": {},
   "outputs": [],
   "source": [
    "import os\n",
    "os.environ[\"CUDA_DEVICE_ORDER\"] = \"PCI_BUS_ID\"   # see issue #152\n",
    "os.environ[\"CUDA_VISIBLE_DEVICES\"] = \"1\""
   ]
  },
  {
   "cell_type": "code",
   "execution_count": 2,
   "metadata": {},
   "outputs": [
    {
     "name": "stderr",
     "output_type": "stream",
     "text": [
      "Using TensorFlow backend.\n"
     ]
    }
   ],
   "source": [
    "## extra imports to set GPU options\n",
    "import tensorflow as tf\n",
    "from keras import backend as k\n",
    "\n",
    "###################################\n",
    "# TensorFlow wizardry\n",
    "config = tf.ConfigProto()\n",
    "\n",
    "# Don't pre-allocate memory; allocate as-needed\n",
    "config.gpu_options.allow_growth = True\n",
    "\n",
    "# Only allow a total of half the GPU memory to be allocated\n",
    "config.gpu_options.per_process_gpu_memory_fraction = 1 # 0.5 for Half\n",
    "\n",
    "# Create a session with the above options specified.\n",
    "k.tensorflow_backend.set_session(tf.Session(config=config))\n"
   ]
  },
  {
   "cell_type": "code",
   "execution_count": 2,
   "metadata": {},
   "outputs": [
    {
     "name": "stderr",
     "output_type": "stream",
     "text": [
      "Using TensorFlow backend.\n"
     ]
    }
   ],
   "source": [
    "from keras import backend as K\n",
    "from keras.models import Sequential, Model\n",
    "from keras.layers import Activation\n",
    "from keras.layers import Dense, Flatten\n",
    "from keras.optimizers import Adam\n",
    "from keras.metrics import categorical_crossentropy\n",
    "from keras.preprocessing.image import ImageDataGenerator\n",
    "from keras.layers.normalization import BatchNormalization\n",
    "from keras.layers.convolutional import *\n",
    "from keras.models import Sequential\n",
    "from keras.layers.core import Flatten, Dense, Dropout\n",
    "from keras.layers.convolutional import Convolution2D, MaxPooling2D, ZeroPadding2D\n",
    "from keras.optimizers import SGD\n",
    "from matplotlib import pyplot as plt\n",
    "from sklearn.metrics import confusion_matrix\n",
    "from keras.utils import plot_model\n",
    "\n",
    "import tensorflow as tf\n",
    "import keras\n",
    "import seaborn as sn\n",
    "import pandas as pd\n",
    "import numpy as np\n",
    "import linecache\n",
    "import sys\n",
    "import h5py\n",
    "import itertools\n",
    "import matplotlib.pyplot as plt\n",
    "import os\n",
    "import pickle\n",
    "import matplotlib.pyplot as plt; plt.rcdefaults()\n",
    "import numpy as np\n",
    "import matplotlib.pyplot as plt"
   ]
  },
  {
   "cell_type": "code",
   "execution_count": 4,
   "metadata": {},
   "outputs": [
    {
     "data": {
      "text/plain": [
       "'1.9.0'"
      ]
     },
     "execution_count": 4,
     "metadata": {},
     "output_type": "execute_result"
    }
   ],
   "source": [
    "tf.__version__"
   ]
  },
  {
   "cell_type": "code",
   "execution_count": 5,
   "metadata": {},
   "outputs": [],
   "source": [
    "train_path = '/data/danish/Data/Malimg-Color-25-Families/Malimg-Colorimage-train/'\n",
    "test_path  = '/data/danish/Data/Malimg-Color-25-Families/Malimg-Colorimage-test/'"
   ]
  },
  {
   "cell_type": "code",
   "execution_count": 6,
   "metadata": {},
   "outputs": [],
   "source": [
    "datagen_train = ImageDataGenerator(\n",
    "      rescale=1./255#,\n",
    "      #rotation_range=0.1,#180,\n",
    "      #width_shift_range=0.1,\n",
    "      #height_shift_range=0.1,\n",
    "      #shear_range=0.1,\n",
    "      #zoom_range=0.1,#[0.9, 1.5],\n",
    "      #horizontal_flip=True,\n",
    "      #vertical_flip=True,\n",
    "      #fill_mode='nearest'\n",
    "                )\n",
    "\n",
    "datagen_test = ImageDataGenerator(rescale=1./255)\n"
   ]
  },
  {
   "cell_type": "code",
   "execution_count": 15,
   "metadata": {},
   "outputs": [],
   "source": [
    "if False:\n",
    "    save_to_dir='augmented_images/'\n",
    "else:\n",
    "    save_to_dir = None"
   ]
  },
  {
   "cell_type": "code",
   "execution_count": 16,
   "metadata": {},
   "outputs": [
    {
     "data": {
      "text/plain": [
       "'Deep_Learning_Model_for_Malimg_size_GrayScale=(224, 224)'"
      ]
     },
     "execution_count": 16,
     "metadata": {},
     "output_type": "execute_result"
    }
   ],
   "source": [
    "input_shape=(224,224)\n",
    "batch_size=32\n",
    "save_fn='Deep_Learning_Model_for_Malimg_size_GrayScale='+str(input_shape[:])\n",
    "save_fn"
   ]
  },
  {
   "cell_type": "code",
   "execution_count": 17,
   "metadata": {},
   "outputs": [
    {
     "name": "stdout",
     "output_type": "stream",
     "text": [
      "Found 6527 images belonging to 25 classes.\n",
      "Steps for Training 203.96875\n",
      "[ 0  0  0 ..., 24 24 24]\n",
      "['AdialerC', 'AgentFYI', 'AllapleA', 'AllapleL', 'Aluerongen!J', 'AutorunK', 'C2LOPP', 'C2LOPgen!g', 'DialplatformB', 'DontovoA', 'Fakerean', 'Instantaccess', 'LolydaAA1', 'LolydaAA2', 'LolydaAA3', 'LolydaAT', 'Malexgen!J', 'ObfuscatorAD', 'Rbot!gen', 'SkintrimN', 'Swizzorgen!E', 'Swizzorgen!I', 'VBAT', 'WintrimBX', 'YunerA']\n",
      "Number of Classes in Training Data 25\n"
     ]
    }
   ],
   "source": [
    "generator_train = datagen_train.flow_from_directory(directory=train_path,\n",
    "                                                    target_size=input_shape,\n",
    "                                                    batch_size=batch_size,\n",
    "                                                    class_mode='categorical',#binary\n",
    "                                                    color_mode=\"rgb\",\n",
    "                                                    shuffle=True,\n",
    "                                                    save_to_dir=save_to_dir,\n",
    "                                                    seed=42)\n",
    "\n",
    "\n",
    "steps_train = generator_train.n/ batch_size\n",
    "print(\"Steps for Training\",steps_train)\n",
    "\n",
    "cls_train = generator_train.classes\n",
    "print(cls_train)\n",
    "cls_names_train = list(generator_train.class_indices.keys())\n",
    "print(cls_names_train)\n",
    "num_cls_train = len(cls_names_train)\n",
    "print(\"Number of Classes in Training Data\",num_cls_train)"
   ]
  },
  {
   "cell_type": "code",
   "execution_count": 18,
   "metadata": {},
   "outputs": [],
   "source": [
    "from sklearn.utils.class_weight import compute_class_weight\n",
    "class_weight_train = compute_class_weight(class_weight='balanced',\n",
    "                                    classes=np.unique(cls_train),\n",
    "                                    y=cls_train)"
   ]
  },
  {
   "cell_type": "raw",
   "metadata": {},
   "source": [
    "class_dictionary_train = generator_train.class_indices\n",
    "class_dictionary_train"
   ]
  },
  {
   "cell_type": "code",
   "execution_count": 19,
   "metadata": {},
   "outputs": [
    {
     "data": {
      "text/plain": [
       "['AdialerC',\n",
       " 'AgentFYI',\n",
       " 'AllapleA',\n",
       " 'AllapleL',\n",
       " 'Aluerongen!J',\n",
       " 'AutorunK',\n",
       " 'C2LOPP',\n",
       " 'C2LOPgen!g',\n",
       " 'DialplatformB',\n",
       " 'DontovoA',\n",
       " 'Fakerean',\n",
       " 'Instantaccess',\n",
       " 'LolydaAA1',\n",
       " 'LolydaAA2',\n",
       " 'LolydaAA3',\n",
       " 'LolydaAT',\n",
       " 'Malexgen!J',\n",
       " 'ObfuscatorAD',\n",
       " 'Rbot!gen',\n",
       " 'SkintrimN',\n",
       " 'Swizzorgen!E',\n",
       " 'Swizzorgen!I',\n",
       " 'VBAT',\n",
       " 'WintrimBX',\n",
       " 'YunerA']"
      ]
     },
     "execution_count": 19,
     "metadata": {},
     "output_type": "execute_result"
    }
   ],
   "source": [
    "#cls_names_train\n",
    "class_labels = ['AdialerC','AgentFYI','AllapleA','AllapleL','Aluerongen!J','AutorunK','C2LOPP','C2LOPgen!g','DialplatformB','DontovoA',\n",
    " 'Fakerean','Instantaccess','LolydaAA1','LolydaAA2','LolydaAA3','LolydaAT','Malexgen!J','ObfuscatorAD','Rbot!gen','SkintrimN',\n",
    " 'Swizzorgen!E','Swizzorgen!I','VBAT','WintrimBX','YunerA']\n",
    "class_labels"
   ]
  },
  {
   "cell_type": "code",
   "execution_count": 20,
   "metadata": {},
   "outputs": [
    {
     "data": {
      "text/plain": [
       "array([ 3.07152941,  3.22320988,  0.12649225,  0.23457323,  1.89188406,\n",
       "        3.52810811,  2.55960784,  1.86485714,  2.12260163,  2.31044248,\n",
       "        0.98150376,  0.86737542,  1.75221477,  2.0396875 ,  3.03581395,\n",
       "        2.35207207,  2.74821053,  2.63717172,  2.37345455,  4.66214286,\n",
       "        2.93348315,  2.83782609,  0.91607018,  3.89671642,  0.46621429])"
      ]
     },
     "execution_count": 20,
     "metadata": {},
     "output_type": "execute_result"
    }
   ],
   "source": [
    "class_weight_train"
   ]
  },
  {
   "cell_type": "code",
   "execution_count": 21,
   "metadata": {},
   "outputs": [
    {
     "data": {
      "image/png": "[encoded data removed]",
      "text/plain": [
       "<matplotlib.figure.Figure at 0x7f130e615240>"
      ]
     },
     "metadata": {
      "needs_background": "light"
     },
     "output_type": "display_data"
    }
   ],
   "source": [
    "objects = class_labels#class_dictionary_train#cls_names_train#('Python', 'C++', 'Java', 'Perl', 'Scala', 'Lisp')\n",
    "y_pos = np.arange(len(objects))\n",
    "performance = class_weight_train#[10,8,6,4,2,1]\n",
    "plt.figure(figsize = (25,7))\n",
    "plt.bar(y_pos, performance, align='center', alpha=0.5, color='g', linestyle='--', width=0.5, edgecolor='r', )\n",
    "plt.xticks(y_pos, objects, rotation='vertical')\n",
    "plt.xlabel('Malware Families')\n",
    "plt.ylabel('Class Weight')\n",
    "plt.title('Malimg Traning Dataset')\n",
    " \n",
    "plt.show()"
   ]
  },
  {
   "cell_type": "code",
   "execution_count": 22,
   "metadata": {},
   "outputs": [
    {
     "name": "stdout",
     "output_type": "stream",
     "text": [
      "Found 2812 images belonging to 25 classes.\n",
      "Steps for Test 87.875\n",
      "[ 0  0  0 ..., 24 24 24]\n",
      "['AdialerC', 'AgentFYI', 'AllapleA', 'AllapleL', 'Aluerongen!J', 'AutorunK', 'C2LOPP', 'C2LOPgen!g', 'DialplatformB', 'DontovoA', 'Fakerean', 'Instantaccess', 'LolydaAA1', 'LolydaAA2', 'LolydaAA3', 'LolydaAT', 'Malexgen!J', 'ObfuscatorAD', 'Rbot!gen', 'SkintrimN', 'Swizzorgen!E', 'Swizzorgen!I', 'VBAT', 'WintrimBX', 'YunerA']\n",
      "Number of Classes in Test Data 25\n"
     ]
    }
   ],
   "source": [
    "generator_test = datagen_test.flow_from_directory(directory=test_path,\n",
    "                                                  target_size=input_shape,\n",
    "                                                  class_mode='categorical',\n",
    "                                                  color_mode=\"rgb\",\n",
    "                                                  batch_size=batch_size,\n",
    "                                                  shuffle=False,\n",
    "                                                  seed=42)\n",
    "\n",
    "steps_test = generator_test.n / batch_size\n",
    "steps_test\n",
    "print(\"Steps for Test\",steps_test)\n",
    "\n",
    "cls_test = generator_test.classes\n",
    "print(cls_test)\n",
    "cls_names_test = list(generator_test.class_indices.keys())\n",
    "print(cls_names_test)\n",
    "num_cls_test = len(cls_names_test)\n",
    "print(\"Number of Classes in Test Data\",num_cls_test)"
   ]
  },
  {
   "cell_type": "code",
   "execution_count": 23,
   "metadata": {},
   "outputs": [
    {
     "data": {
      "text/plain": [
       "{'AdialerC': 0,\n",
       " 'AgentFYI': 1,\n",
       " 'AllapleA': 2,\n",
       " 'AllapleL': 3,\n",
       " 'Aluerongen!J': 4,\n",
       " 'AutorunK': 5,\n",
       " 'C2LOPP': 6,\n",
       " 'C2LOPgen!g': 7,\n",
       " 'DialplatformB': 8,\n",
       " 'DontovoA': 9,\n",
       " 'Fakerean': 10,\n",
       " 'Instantaccess': 11,\n",
       " 'LolydaAA1': 12,\n",
       " 'LolydaAA2': 13,\n",
       " 'LolydaAA3': 14,\n",
       " 'LolydaAT': 15,\n",
       " 'Malexgen!J': 16,\n",
       " 'ObfuscatorAD': 17,\n",
       " 'Rbot!gen': 18,\n",
       " 'SkintrimN': 19,\n",
       " 'Swizzorgen!E': 20,\n",
       " 'Swizzorgen!I': 21,\n",
       " 'VBAT': 22,\n",
       " 'WintrimBX': 23,\n",
       " 'YunerA': 24}"
      ]
     },
     "execution_count": 23,
     "metadata": {},
     "output_type": "execute_result"
    }
   ],
   "source": [
    "class_dictionary_test = generator_test.class_indices\n",
    "class_dictionary_test"
   ]
  },
  {
   "cell_type": "code",
   "execution_count": 24,
   "metadata": {},
   "outputs": [],
   "source": [
    "from sklearn.utils.class_weight import compute_class_weight\n",
    "class_weight_test = compute_class_weight(class_weight='balanced',\n",
    "                                    classes=np.unique(cls_test),\n",
    "                                    y=cls_test)"
   ]
  },
  {
   "cell_type": "code",
   "execution_count": 25,
   "metadata": {},
   "outputs": [
    {
     "data": {
      "text/plain": [
       "array([ 3.04      ,  3.21371429,  0.12709605,  0.23531381,  1.87466667,\n",
       "        3.515     ,  2.55636364,  1.87466667,  2.08296296,  2.2955102 ,\n",
       "        0.97808696,  0.86523077,  1.7575    ,  2.00857143,  3.04      ,\n",
       "        2.34333333,  2.74341463,  2.61581395,  2.34333333,  4.68666667,\n",
       "        2.88410256,  2.812     ,  0.91447154,  3.74933333,  0.46866667])"
      ]
     },
     "execution_count": 25,
     "metadata": {},
     "output_type": "execute_result"
    }
   ],
   "source": [
    "class_weight_test"
   ]
  },
  {
   "cell_type": "code",
   "execution_count": 26,
   "metadata": {},
   "outputs": [
    {
     "data": {
      "image/png": "[encoded data removed]",
      "text/plain": [
       "<matplotlib.figure.Figure at 0x7f130e577748>"
      ]
     },
     "metadata": {
      "needs_background": "light"
     },
     "output_type": "display_data"
    }
   ],
   "source": [
    "objects = class_labels#class_dictionary_train#cls_names_train#('Python', 'C++', 'Java', 'Perl', 'Scala', 'Lisp')\n",
    "y_pos = np.arange(len(objects))\n",
    "performance = class_weight_test#[10,8,6,4,2,1]\n",
    "plt.figure(figsize = (25,7))\n",
    "plt.bar(y_pos, performance, align='center', alpha=0.5, color='g', linestyle='--', width=0.5, edgecolor='r', )\n",
    "plt.xticks(y_pos, objects, rotation='vertical')\n",
    "plt.xlabel('Malware Families')\n",
    "plt.ylabel('Class Weight')\n",
    "plt.title('Malimg Testing Dataset')\n",
    " \n",
    "plt.show()"
   ]
  },
  {
   "cell_type": "code",
   "execution_count": 27,
   "metadata": {},
   "outputs": [
    {
     "data": {
      "image/png": "[encoded data removed]",
      "text/plain": [
       "<matplotlib.figure.Figure at 0x7f1403716a20>"
      ]
     },
     "metadata": {
      "needs_background": "light"
     },
     "output_type": "display_data"
    }
   ],
   "source": [
    "objects = class_labels#class_dictionary_train#cls_names_train#('Python', 'C++', 'Java', 'Perl', 'Scala', 'Lisp')\n",
    "y_pos = np.arange(len(objects))\n",
    "performance = [122,116,2949,1591,198,106,146,200,177,162,381,431,213,184,123,159,136,142,158,80,128,132,408,97,800]\n",
    "plt.figure(figsize = (25,7))\n",
    "plt.bar(y_pos, performance, align='center', alpha=0.5, color='g', linestyle='--', width=0.5, edgecolor='r', )\n",
    "plt.xticks(y_pos, objects, rotation='vertical')\n",
    "plt.xlabel('Malware Families')\n",
    "plt.ylabel('Samples')\n",
    "plt.title('Malimg Dataset')\n",
    " \n",
    "plt.show()"
   ]
  },
  {
   "cell_type": "code",
   "execution_count": 28,
   "metadata": {},
   "outputs": [],
   "source": [
    "model_ = keras.applications.vgg16.VGG16()#include_top=True, weights=None, input_tensor=None, input_shape=(224,224,1), classes=num_cls_train)"
   ]
  },
  {
   "cell_type": "code",
   "execution_count": 29,
   "metadata": {},
   "outputs": [],
   "source": [
    "transfer_layer = model_.get_layer('fc2')"
   ]
  },
  {
   "cell_type": "code",
   "execution_count": 30,
   "metadata": {},
   "outputs": [
    {
     "data": {
      "text/plain": [
       "<tf.Tensor 'fc2/Relu:0' shape=(?, 4096) dtype=float32>"
      ]
     },
     "execution_count": 30,
     "metadata": {},
     "output_type": "execute_result"
    }
   ],
   "source": [
    "transfer_layer.output"
   ]
  },
  {
   "cell_type": "code",
   "execution_count": 31,
   "metadata": {},
   "outputs": [],
   "source": [
    "conv_model = Model(inputs=model_.input,\n",
    "                   outputs=transfer_layer.output)"
   ]
  },
  {
   "cell_type": "code",
   "execution_count": 32,
   "metadata": {},
   "outputs": [
    {
     "name": "stdout",
     "output_type": "stream",
     "text": [
      "_________________________________________________________________\n",
      "Layer (type)                 Output Shape              Param #   \n",
      "=================================================================\n",
      "input_1 (InputLayer)         (None, 224, 224, 3)       0         \n",
      "_________________________________________________________________\n",
      "block1_conv1 (Conv2D)        (None, 224, 224, 64)      1792      \n",
      "_________________________________________________________________\n",
      "block1_conv2 (Conv2D)        (None, 224, 224, 64)      36928     \n",
      "_________________________________________________________________\n",
      "block1_pool (MaxPooling2D)   (None, 112, 112, 64)      0         \n",
      "_________________________________________________________________\n",
      "block2_conv1 (Conv2D)        (None, 112, 112, 128)     73856     \n",
      "_________________________________________________________________\n",
      "block2_conv2 (Conv2D)        (None, 112, 112, 128)     147584    \n",
      "_________________________________________________________________\n",
      "block2_pool (MaxPooling2D)   (None, 56, 56, 128)       0         \n",
      "_________________________________________________________________\n",
      "block3_conv1 (Conv2D)        (None, 56, 56, 256)       295168    \n",
      "_________________________________________________________________\n",
      "block3_conv2 (Conv2D)        (None, 56, 56, 256)       590080    \n",
      "_________________________________________________________________\n",
      "block3_conv3 (Conv2D)        (None, 56, 56, 256)       590080    \n",
      "_________________________________________________________________\n",
      "block3_pool (MaxPooling2D)   (None, 28, 28, 256)       0         \n",
      "_________________________________________________________________\n",
      "block4_conv1 (Conv2D)        (None, 28, 28, 512)       1180160   \n",
      "_________________________________________________________________\n",
      "block4_conv2 (Conv2D)        (None, 28, 28, 512)       2359808   \n",
      "_________________________________________________________________\n",
      "block4_conv3 (Conv2D)        (None, 28, 28, 512)       2359808   \n",
      "_________________________________________________________________\n",
      "block4_pool (MaxPooling2D)   (None, 14, 14, 512)       0         \n",
      "_________________________________________________________________\n",
      "block5_conv1 (Conv2D)        (None, 14, 14, 512)       2359808   \n",
      "_________________________________________________________________\n",
      "block5_conv2 (Conv2D)        (None, 14, 14, 512)       2359808   \n",
      "_________________________________________________________________\n",
      "block5_conv3 (Conv2D)        (None, 14, 14, 512)       2359808   \n",
      "_________________________________________________________________\n",
      "block5_pool (MaxPooling2D)   (None, 7, 7, 512)         0         \n",
      "_________________________________________________________________\n",
      "flatten (Flatten)            (None, 25088)             0         \n",
      "_________________________________________________________________\n",
      "fc1 (Dense)                  (None, 4096)              102764544 \n",
      "_________________________________________________________________\n",
      "fc2 (Dense)                  (None, 4096)              16781312  \n",
      "=================================================================\n",
      "Total params: 134,260,544\n",
      "Trainable params: 134,260,544\n",
      "Non-trainable params: 0\n",
      "_________________________________________________________________\n"
     ]
    }
   ],
   "source": [
    "conv_model.summary()"
   ]
  },
  {
   "cell_type": "code",
   "execution_count": 33,
   "metadata": {},
   "outputs": [
    {
     "name": "stdout",
     "output_type": "stream",
     "text": [
      "True\n",
      "True\n",
      "True\n",
      "True\n",
      "True\n",
      "True\n"
     ]
    }
   ],
   "source": [
    "for layer in conv_model.layers:\n",
    "    \n",
    "    \n",
    "    # Boolean whether this layer is trainable.\n",
    "    trainable = ('fc1' in layer.name or 'fc2' in layer.name or 'block1' in layer.name or 'block2' in layer.name or 'block3' in layer.name or 'block4' in layer.name or 'block5' in layer.name) # or 'block6' in layer.name or 'block7' in layer.name or 'block8' in layer.name or 'block9' in layer.name or 'block10' in layer.name or 'block11' in layer.name or 'block12' in layer.name or 'block13' in layer.name or 'block14' in layer.name)\n",
    "    \n",
    "    if trainable:\n",
    "        layer.trainable = False #trainable\n",
    "        #print(\"False\")\n",
    "        \n",
    "    trainable_ = ('fc1' in layer.name or 'fc2' in layer.name or 'block5' in layer.name) #or 'block5' in layer.name or 'block6' in layer.name or 'block7' in layer.name or 'block8' in layer.name or 'block9' in layer.name or 'block10' in layer.name or 'block11' in layer.name or 'block12' in layer.name or 'block13' in layer.name or 'block14' in layer.name)\n",
    "    \n",
    "    if trainable_:\n",
    "        # Set the layer's bool.\n",
    "        layer.trainable = trainable_\n",
    "        print(trainable_)"
   ]
  },
  {
   "cell_type": "code",
   "execution_count": 34,
   "metadata": {},
   "outputs": [
    {
     "name": "stdout",
     "output_type": "stream",
     "text": [
      "False:\tinput_1\n",
      "False:\tblock1_conv1\n",
      "False:\tblock1_conv2\n",
      "False:\tblock1_pool\n",
      "False:\tblock2_conv1\n",
      "False:\tblock2_conv2\n",
      "False:\tblock2_pool\n",
      "False:\tblock3_conv1\n",
      "False:\tblock3_conv2\n",
      "False:\tblock3_conv3\n",
      "False:\tblock3_pool\n",
      "False:\tblock4_conv1\n",
      "False:\tblock4_conv2\n",
      "False:\tblock4_conv3\n",
      "False:\tblock4_pool\n",
      "True:\tblock5_conv1\n",
      "True:\tblock5_conv2\n",
      "True:\tblock5_conv3\n",
      "True:\tblock5_pool\n",
      "True:\tflatten\n",
      "True:\tfc1\n",
      "True:\tfc2\n"
     ]
    }
   ],
   "source": [
    "def print_layer_trainable():\n",
    "    for layer in conv_model.layers:\n",
    "        print(\"{0}:\\t{1}\".format(layer.trainable, layer.name))\n",
    "print_layer_trainable()"
   ]
  },
  {
   "cell_type": "code",
   "execution_count": 35,
   "metadata": {},
   "outputs": [],
   "source": [
    "# Start a new Keras Sequential model.\n",
    "model = Sequential()\n",
    "\n",
    "# Add the convolutional part of the VGG16 model from above.\n",
    "model.add(conv_model)\n",
    "\n",
    "# Flatten the output of the VGG16 model because it is from a\n",
    "# convolutional layer.\n",
    "#model.add(Flatten())\n",
    "\n",
    "# Add a dense (aka. fully-connected) layer.\n",
    "# This is for combining features that the VGG16 model has\n",
    "# recognized in the image.\n",
    "#model.add(Dense(1024, activation='relu'))\n",
    "\n",
    "# Add a dropout-layer which may prevent overfitting and\n",
    "# improve generalization ability to unseen data e.g. the test-set.\n",
    "model.add(Dropout(0.5))\n",
    "\n",
    "# Add the final layer for the actual classification.\n",
    "model.add(Dense(num_cls_train, activation='softmax'))"
   ]
  },
  {
   "cell_type": "code",
   "execution_count": 36,
   "metadata": {},
   "outputs": [
    {
     "name": "stdout",
     "output_type": "stream",
     "text": [
      "_________________________________________________________________\n",
      "Layer (type)                 Output Shape              Param #   \n",
      "=================================================================\n",
      "model_1 (Model)              (None, 4096)              134260544 \n",
      "_________________________________________________________________\n",
      "dropout_1 (Dropout)          (None, 4096)              0         \n",
      "_________________________________________________________________\n",
      "dense_1 (Dense)              (None, 25)                102425    \n",
      "=================================================================\n",
      "Total params: 134,362,969\n",
      "Trainable params: 126,727,705\n",
      "Non-trainable params: 7,635,264\n",
      "_________________________________________________________________\n"
     ]
    }
   ],
   "source": [
    "model.summary()"
   ]
  },
  {
   "cell_type": "code",
   "execution_count": 37,
   "metadata": {},
   "outputs": [],
   "source": [
    "\n",
    "#model.load_weights('Deep_Learning_Model_for_Malimg_size=(192, 192)_Weights.hdf5')\n",
    "model.compile(Adam(lr=0.0001),loss='categorical_crossentropy', metrics=['accuracy'])\n"
   ]
  },
  {
   "cell_type": "code",
   "execution_count": 38,
   "metadata": {},
   "outputs": [],
   "source": [
    "epochs =10\n",
    "steps_per_epoch=steps_train"
   ]
  },
  {
   "cell_type": "code",
   "execution_count": 39,
   "metadata": {},
   "outputs": [
    {
     "name": "stdout",
     "output_type": "stream",
     "text": [
      "Epoch 1/10\n",
      "204/203 [==============================] - 76s 374ms/step - loss: 0.4821 - acc: 0.8802 - val_loss: 0.1176 - val_acc: 0.9587\n",
      "Epoch 2/10\n",
      "204/203 [==============================] - 65s 317ms/step - loss: 0.1127 - acc: 0.9646 - val_loss: 0.0965 - val_acc: 0.9694\n",
      "Epoch 3/10\n",
      "204/203 [==============================] - 65s 319ms/step - loss: 0.0721 - acc: 0.9736 - val_loss: 0.0730 - val_acc: 0.9797\n",
      "Epoch 4/10\n",
      "204/203 [==============================] - 63s 309ms/step - loss: 0.0533 - acc: 0.9804 - val_loss: 0.0518 - val_acc: 0.9829\n",
      "Epoch 5/10\n",
      "204/203 [==============================] - 65s 319ms/step - loss: 0.0476 - acc: 0.9828 - val_loss: 0.0812 - val_acc: 0.9744\n",
      "Epoch 6/10\n",
      "204/203 [==============================] - 65s 318ms/step - loss: 0.0321 - acc: 0.9884 - val_loss: 0.0768 - val_acc: 0.9733\n",
      "Epoch 7/10\n",
      "204/203 [==============================] - 65s 318ms/step - loss: 0.0254 - acc: 0.9902 - val_loss: 0.0661 - val_acc: 0.9826\n",
      "Epoch 8/10\n",
      "204/203 [==============================] - 64s 316ms/step - loss: 0.0238 - acc: 0.9914 - val_loss: 0.0450 - val_acc: 0.9858\n",
      "Epoch 9/10\n",
      "204/203 [==============================] - 65s 319ms/step - loss: 0.0241 - acc: 0.9925 - val_loss: 0.0659 - val_acc: 0.9840\n",
      "Epoch 10/10\n",
      "204/203 [==============================] - 64s 316ms/step - loss: 0.0203 - acc: 0.9930 - val_loss: 0.0776 - val_acc: 0.9840\n"
     ]
    }
   ],
   "source": [
    "from keras.callbacks import ModelCheckpoint\n",
    "from keras.callbacks import TensorBoard\n",
    "from keras.callbacks import ReduceLROnPlateau\n",
    "from keras.callbacks import EarlyStopping\n",
    "from keras.callbacks import RemoteMonitor\n",
    "\n",
    "\n",
    "\n",
    "history = model.fit_generator(generator=generator_train,\n",
    "                                epochs=epochs,\n",
    "                                steps_per_epoch=steps_per_epoch,\n",
    "                                validation_data=generator_test,\n",
    "                                validation_steps=steps_test\n",
    "                                )\n",
    "\n",
    "\n"
   ]
  },
  {
   "cell_type": "raw",
   "metadata": {},
   "source": [
    "model.save(\"No-Aug-Color.h5\")"
   ]
  },
  {
   "cell_type": "raw",
   "metadata": {},
   "source": [
    "#####################################\n",
    "# write Traning History to a file\n",
    "output = open(\"No-Aug-Color-History.pkl\", 'wb')\n",
    "pickle.dump(history.history, output)\n",
    "output.close()\n",
    "#####################################"
   ]
  },
  {
   "cell_type": "code",
   "execution_count": 3,
   "metadata": {},
   "outputs": [],
   "source": [
    "\n",
    "# read Traning History back from the file\n",
    "pkl_file = open(\"No-Aug-Color-History.pkl\", 'rb')\n",
    "history = pickle.load(pkl_file)\n",
    "pkl_file.close()"
   ]
  },
  {
   "cell_type": "code",
   "execution_count": 4,
   "metadata": {},
   "outputs": [],
   "source": [
    "import pandas as pd\n",
    "# convert the history.history dict to a pandas DataFrame:     \n",
    "hist_df = pd.DataFrame(history) \n",
    "\n",
    "csv_file = 'No-Aug-Color-History.csv'\n",
    "with open(csv_file, mode='w') as f:\n",
    "    hist_df.to_csv(f)"
   ]
  },
  {
   "cell_type": "code",
   "execution_count": null,
   "metadata": {},
   "outputs": [],
   "source": []
  },
  {
   "cell_type": "code",
   "execution_count": 43,
   "metadata": {},
   "outputs": [
    {
     "name": "stdout",
     "output_type": "stream",
     "text": [
      "88/88 [==============================] - 19s 215ms/step\n",
      "acc: 98.40%\n"
     ]
    }
   ],
   "source": [
    "#scores = model.evaluate(X[test], Y[test], verbose=0)\n",
    "#model.load_weights('Model_VGG16_Malimg_RGB_Trained_(229, 229)_Epochs=100_Model_Traning_Testing_Weights.hdf5')\n",
    "scores = model.evaluate_generator(generator_test, verbose=1)# steps_test, max_queue_size=10, workers=1, use_multiprocessing=False,verbose=1)\n",
    "print(\"%s: %.2f%%\" % (model.metrics_names[1], scores[1]*100))"
   ]
  },
  {
   "cell_type": "code",
   "execution_count": 44,
   "metadata": {},
   "outputs": [
    {
     "name": "stdout",
     "output_type": "stream",
     "text": [
      "88/88 [==============================] - 20s 222ms/step\n"
     ]
    }
   ],
   "source": [
    "cls_pred = model.predict_generator(generator_test, verbose=1)#, steps_test, max_queue_size=10, workers=1, use_multiprocessing=False, verbose=1)"
   ]
  },
  {
   "cell_type": "code",
   "execution_count": 45,
   "metadata": {},
   "outputs": [],
   "source": [
    "cls_pred = np.argmax(cls_pred, axis=1)"
   ]
  },
  {
   "cell_type": "code",
   "execution_count": 46,
   "metadata": {},
   "outputs": [],
   "source": [
    "y_test = cls_test = generator_test.classes\n",
    "\n",
    "from pycm import ConfusionMatrix\n",
    "CM_IMCFN = ConfusionMatrix(y_test,cls_pred)\n",
    "file = open('CM-No-Aug-Color.pkl', 'wb')\n",
    "pickle.dump(CM_IMCFN, file)\n",
    "file.close()"
   ]
  },
  {
   "cell_type": "code",
   "execution_count": 47,
   "metadata": {},
   "outputs": [],
   "source": [
    "# write Traning History to a file\n",
    "file = open('CM-No-Aug-Color.pkl', 'rb')\n",
    "CM_IMCFN = pickle.load(file)\n",
    "file.close()"
   ]
  },
  {
   "cell_type": "code",
   "execution_count": 48,
   "metadata": {},
   "outputs": [
    {
     "name": "stdout",
     "output_type": "stream",
     "text": [
      "Overall Statistics : \n",
      "\n",
      "ACC Macro                                                         0.99872\n",
      "F1 Macro                                                          0.95081\n",
      "Kappa                                                             0.98126\n",
      "Overall ACC                                                       0.984\n",
      "PPV Macro                                                         0.9651\n",
      "SOA1(Landis & Koch)                                               Almost Perfect\n",
      "TPR Macro                                                         0.95728\n",
      "Zero-one Loss                                                     45\n",
      "\n",
      "Class Statistics :\n",
      "\n",
      "Classes                                                           0             1             10            11            12            13            14            15            16            17            18            19            2             20            21            22            23            24            3             4             5             6             7             8             9             \n",
      "ACC(Accuracy)                                                     1.0           1.0           1.0           1.0           0.99964       0.99964       1.0           1.0           0.99893       1.0           0.99964       1.0           0.99964       0.9904        0.98826       0.99964       0.99964       1.0           1.0           1.0           1.0           0.99573       0.9968        1.0           1.0           \n",
      "AUC(Area under the ROC curve)                                     1.0           1.0           1.0           1.0           0.99982       0.99107       1.0           1.0           0.97543       1.0           0.98958       1.0           0.99974       0.95721       0.59982       0.99593       0.99982       1.0           1.0           1.0           1.0           0.97547       0.97391       1.0           1.0           \n",
      "AUCI(AUC value interpretation)                                    Excellent     Excellent     Excellent     Excellent     Excellent     Excellent     Excellent     Excellent     Excellent     Excellent     Excellent     Excellent     Excellent     Excellent     Poor          Excellent     Excellent     Excellent     Excellent     Excellent     Excellent     Excellent     Excellent     Excellent     Excellent     \n",
      "F1(F1 score - harmonic mean of precision and sensitivity)         1.0           1.0           1.0           1.0           0.99225       0.99099       1.0           1.0           0.96296       1.0           0.98947       1.0           0.99944       0.72727       0.32653       0.99592       0.98361       1.0           1.0           1.0           1.0           0.875         0.92683       1.0           1.0           \n",
      "FN(False negative/miss/type 2 error)                              0             0             0             0             0             1             0             0             2             0             1             0             0             3             32            1             0             0             0             0             0             2             3             0             0             \n",
      "FP(False positive/type 1 error/false alarm)                       0             0             0             0             1             0             0             0             1             0             0             0             1             24            1             0             1             0             0             0             0             10            6             0             0             \n",
      "N(Condition negative)                                             2775          2777          2697          2682          2748          2756          2775          2764          2771          2769          2764          2788          1927          2773          2772          2689          2782          2572          2334          2752          2780          2768          2752          2758          2763          \n",
      "P(Condition positive or support)                                  37            35            115           130           64            56            37            48            41            43            48            24            885           39            40            123           30            240           478           60            32            44            60            54            49            \n",
      "POP(Population)                                                   2812          2812          2812          2812          2812          2812          2812          2812          2812          2812          2812          2812          2812          2812          2812          2812          2812          2812          2812          2812          2812          2812          2812          2812          2812          \n",
      "PPV(Precision or positive predictive value)                       1.0           1.0           1.0           1.0           0.98462       1.0           1.0           1.0           0.975         1.0           1.0           1.0           0.99887       0.6           0.88889       1.0           0.96774       1.0           1.0           1.0           1.0           0.80769       0.90476       1.0           1.0           \n",
      "TN(True negative/correct rejection)                               2775          2777          2697          2682          2747          2756          2775          2764          2770          2769          2764          2788          1926          2749          2771          2689          2781          2572          2334          2752          2780          2758          2746          2758          2763          \n",
      "TON(Test outcome negative)                                        2775          2777          2697          2682          2747          2757          2775          2764          2772          2769          2765          2788          1926          2752          2803          2690          2781          2572          2334          2752          2780          2760          2749          2758          2763          \n",
      "TOP(Test outcome positive)                                        37            35            115           130           65            55            37            48            40            43            47            24            886           60            9             122           31            240           478           60            32            52            63            54            49            \n",
      "TP(True positive/hit)                                             37            35            115           130           64            55            37            48            39            43            47            24            885           36            8             122           30            240           478           60            32            42            57            54            49            \n",
      "TPR(Sensitivity, recall, hit rate, or true positive rate)         1.0           1.0           1.0           1.0           1.0           0.98214       1.0           1.0           0.95122       1.0           0.97917       1.0           1.0           0.92308       0.2           0.99187       1.0           1.0           1.0           1.0           1.0           0.95455       0.95          1.0           1.0           \n",
      "\n"
     ]
    },
    {
     "name": "stderr",
     "output_type": "stream",
     "text": [
      "/home/danish/anaconda3/envs/tf/lib/python3.6/site-packages/pycm/pycm_obj.py:167: RuntimeWarning: The confusion matrix is a high dimension matrix and won't be demonstrated properly.\n",
      "The save_csv method can be used to save the confusion matrix in csv format and have a better demonstration of it.\n",
      "  warn(CLASS_NUMBER_WARNING, RuntimeWarning)\n"
     ]
    }
   ],
   "source": [
    "CM_IMCFN.stat(summary=True)"
   ]
  },
  {
   "cell_type": "code",
   "execution_count": 49,
   "metadata": {},
   "outputs": [
    {
     "data": {
      "text/plain": [
       "{'Status': True,\n",
       " 'Message': '/data/danish/ImgProPython/TensorFlow-Tutorials/Computer-Networks-(CCF-B)/No-Aug-Color/CM-No-Aug-Color.csv'}"
      ]
     },
     "execution_count": 49,
     "metadata": {},
     "output_type": "execute_result"
    }
   ],
   "source": [
    "CM_IMCFN.save_csv(\"CM-No-Aug-Color\",address=True)"
   ]
  },
  {
   "cell_type": "code",
   "execution_count": 50,
   "metadata": {},
   "outputs": [
    {
     "name": "stdout",
     "output_type": "stream",
     "text": [
      "All Classes\n",
      "Precision:  [ 1.          1.          0.99887133  1.          1.          1.\n",
      "  0.80769231  0.9047619   1.          1.          1.          1.\n",
      "  0.98461538  1.          1.          1.          0.975       1.          1.\n",
      "  1.          0.6         0.88888889  1.          0.96774194  1.        ]\n",
      "Recall:  [ 1.          1.          1.          1.          1.          1.\n",
      "  0.95454545  0.95        1.          1.          1.          1.          1.\n",
      "  0.98214286  1.          1.          0.95121951  1.          0.97916667\n",
      "  1.          0.92307692  0.2         0.99186992  1.          1.        ]\n",
      "F1 score:  [ 1.          1.          0.99943535  1.          1.          1.          0.875\n",
      "  0.92682927  1.          1.          1.          1.          0.99224806\n",
      "  0.99099099  1.          1.          0.96296296  1.          0.98947368\n",
      "  1.          0.72727273  0.32653061  0.99591837  0.98360656  1.        ]\n",
      "CPU times: user 11.3 ms, sys: 0 ns, total: 11.3 ms\n",
      "Wall time: 10.4 ms\n"
     ]
    }
   ],
   "source": [
    "%%time\n",
    "from sklearn.metrics import precision_recall_fscore_support, accuracy_score\n",
    "cls_true = cls_test = generator_test.classes\n",
    "accuracy = accuracy_score(cls_true, cls_pred)\n",
    "precision, recall, f1_score, _ = precision_recall_fscore_support(cls_true, cls_pred, average=None)\n",
    "\n",
    "print(\"All Classes\")\n",
    "print(\"Precision: \", precision)\n",
    "print(\"Recall: \", recall)\n",
    "print(\"F1 score: \", f1_score)"
   ]
  },
  {
   "cell_type": "code",
   "execution_count": 51,
   "metadata": {},
   "outputs": [
    {
     "name": "stdout",
     "output_type": "stream",
     "text": [
      "Micro\n",
      "Precision:  0.98399715505\n",
      "Recall:  0.98399715505\n",
      "F1 score:  0.98399715505\n",
      "CPU times: user 5.06 ms, sys: 94 µs, total: 5.15 ms\n",
      "Wall time: 4.76 ms\n"
     ]
    }
   ],
   "source": [
    "%%time\n",
    "from sklearn.metrics import precision_recall_fscore_support, accuracy_score\n",
    "cls_true = cls_test = generator_test.classes\n",
    "accuracy = accuracy_score(cls_true, cls_pred)\n",
    "precision, recall, f1_score, _ = precision_recall_fscore_support(cls_true, cls_pred, average='micro')\n",
    "\n",
    "print(\"Micro\")\n",
    "print(\"Precision: \", precision)\n",
    "print(\"Recall: \", recall)\n",
    "print(\"F1 score: \", f1_score)"
   ]
  },
  {
   "cell_type": "code",
   "execution_count": 52,
   "metadata": {},
   "outputs": [
    {
     "name": "stdout",
     "output_type": "stream",
     "text": [
      "Macro\n",
      "Precision:  0.965102870131\n",
      "Recall:  0.957280853293\n",
      "F1 score:  0.950810743199\n",
      "CPU times: user 4.57 ms, sys: 49 µs, total: 4.62 ms\n",
      "Wall time: 4.15 ms\n"
     ]
    }
   ],
   "source": [
    "%%time\n",
    "from sklearn.metrics import precision_recall_fscore_support, accuracy_score\n",
    "cls_true = cls_test = generator_test.classes\n",
    "accuracy = accuracy_score(cls_true, cls_pred)\n",
    "precision, recall, f1_score, _ = precision_recall_fscore_support(cls_true, cls_pred, average='macro')\n",
    "\n",
    "print(\"Macro\")\n",
    "print(\"Precision: \", precision)\n",
    "print(\"Recall: \", recall)\n",
    "print(\"F1 score: \", f1_score)"
   ]
  },
  {
   "cell_type": "code",
   "execution_count": 53,
   "metadata": {},
   "outputs": [
    {
     "name": "stdout",
     "output_type": "stream",
     "text": [
      "weighted\n",
      "Precision:  0.986416608367\n",
      "Recall:  0.98399715505\n",
      "F1 score:  0.981513742877\n",
      "CPU times: user 5.43 ms, sys: 0 ns, total: 5.43 ms\n",
      "Wall time: 4.82 ms\n"
     ]
    }
   ],
   "source": [
    "%%time\n",
    "from sklearn.metrics import precision_recall_fscore_support, accuracy_score\n",
    "cls_true = cls_test = generator_test.classes\n",
    "accuracy = accuracy_score(cls_true, cls_pred)\n",
    "precision, recall, f1_score, _ = precision_recall_fscore_support(cls_true, cls_pred, average='weighted')\n",
    "\n",
    "print(\"weighted\")\n",
    "print(\"Precision: \", precision)\n",
    "print(\"Recall: \", recall)\n",
    "print(\"F1 score: \", f1_score)"
   ]
  },
  {
   "cell_type": "code",
   "execution_count": null,
   "metadata": {},
   "outputs": [],
   "source": []
  },
  {
   "cell_type": "code",
   "execution_count": null,
   "metadata": {},
   "outputs": [],
   "source": []
  },
  {
   "cell_type": "code",
   "execution_count": null,
   "metadata": {},
   "outputs": [],
   "source": []
  },
  {
   "cell_type": "code",
   "execution_count": null,
   "metadata": {},
   "outputs": [],
   "source": []
  }
 ],
 "metadata": {
  "kernelspec": {
   "display_name": "Python 3",
   "language": "python",
   "name": "python3"
  },
  "language_info": {
   "codemirror_mode": {
    "name": "ipython",
    "version": 3
   },
   "file_extension": ".py",
   "mimetype": "text/x-python",
   "name": "python",
   "nbconvert_exporter": "python",
   "pygments_lexer": "ipython3",
   "version": "3.6.0"
  }
 },
 "nbformat": 4,
 "nbformat_minor": 2
}
