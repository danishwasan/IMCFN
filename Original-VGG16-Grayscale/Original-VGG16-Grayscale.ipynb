{
 "cells": [
  {
   "cell_type": "code",
   "execution_count": 1,
   "metadata": {},
   "outputs": [],
   "source": [
    "import os\n",
    "os.environ[\"CUDA_DEVICE_ORDER\"] = \"PCI_BUS_ID\"   # see issue #152\n",
    "os.environ[\"CUDA_VISIBLE_DEVICES\"] = \"1\""
   ]
  },
  {
   "cell_type": "code",
   "execution_count": 2,
   "metadata": {},
   "outputs": [
    {
     "name": "stderr",
     "output_type": "stream",
     "text": [
      "Using TensorFlow backend.\n"
     ]
    }
   ],
   "source": [
    "## extra imports to set GPU options\n",
    "import tensorflow as tf\n",
    "from keras import backend as k\n",
    "\n",
    "###################################\n",
    "# TensorFlow wizardry\n",
    "config = tf.ConfigProto()\n",
    "\n",
    "# Don't pre-allocate memory; allocate as-needed\n",
    "config.gpu_options.allow_growth = True\n",
    "\n",
    "# Only allow a total of half the GPU memory to be allocated\n",
    "config.gpu_options.per_process_gpu_memory_fraction = 1 # 0.5 for Half\n",
    "\n",
    "# Create a session with the above options specified.\n",
    "k.tensorflow_backend.set_session(tf.Session(config=config))\n"
   ]
  },
  {
   "cell_type": "code",
   "execution_count": 1,
   "metadata": {},
   "outputs": [
    {
     "name": "stderr",
     "output_type": "stream",
     "text": [
      "Using TensorFlow backend.\n"
     ]
    }
   ],
   "source": [
    "from keras import backend as K\n",
    "from keras.models import Sequential, Model\n",
    "from keras.layers import Activation\n",
    "from keras.layers import Dense, Flatten\n",
    "from keras.optimizers import Adam\n",
    "from keras.metrics import categorical_crossentropy\n",
    "from keras.preprocessing.image import ImageDataGenerator\n",
    "from keras.layers.normalization import BatchNormalization\n",
    "from keras.layers.convolutional import *\n",
    "from keras.models import Sequential\n",
    "from keras.layers.core import Flatten, Dense, Dropout\n",
    "from keras.layers.convolutional import Convolution2D, MaxPooling2D, ZeroPadding2D\n",
    "from keras.optimizers import SGD\n",
    "from matplotlib import pyplot as plt\n",
    "from sklearn.metrics import confusion_matrix\n",
    "from keras.utils import plot_model\n",
    "\n",
    "import tensorflow as tf\n",
    "import keras\n",
    "import seaborn as sn\n",
    "import pandas as pd\n",
    "import numpy as np\n",
    "import linecache\n",
    "import sys\n",
    "import h5py\n",
    "import itertools\n",
    "import matplotlib.pyplot as plt\n",
    "import os\n",
    "import pickle\n",
    "import matplotlib.pyplot as plt; plt.rcdefaults()\n",
    "import numpy as np\n",
    "import matplotlib.pyplot as plt"
   ]
  },
  {
   "cell_type": "code",
   "execution_count": 4,
   "metadata": {},
   "outputs": [
    {
     "data": {
      "text/plain": [
       "'1.9.0'"
      ]
     },
     "execution_count": 4,
     "metadata": {},
     "output_type": "execute_result"
    }
   ],
   "source": [
    "tf.__version__"
   ]
  },
  {
   "cell_type": "code",
   "execution_count": 5,
   "metadata": {},
   "outputs": [],
   "source": [
    "train_path = '/data/danish/Data/Malimg-Gray-25-Families/Malimg_Grayscale_train/'\n",
    "test_path  = '/data/danish/Data/Malimg-Gray-25-Families/Malimg_Grayscale_test/'"
   ]
  },
  {
   "cell_type": "code",
   "execution_count": 6,
   "metadata": {},
   "outputs": [],
   "source": [
    "datagen_train = ImageDataGenerator(\n",
    "      rescale=1./255#,\n",
    "      #rotation_range=0.1,#180,\n",
    "      #width_shift_range=0.1,\n",
    "      #height_shift_range=0.1,\n",
    "      #shear_range=0.1,\n",
    "      #zoom_range=0.1,#[0.9, 1.5],\n",
    "      #horizontal_flip=True,\n",
    "      #vertical_flip=True,\n",
    "      #fill_mode='nearest'\n",
    "                )\n",
    "\n",
    "datagen_test = ImageDataGenerator(rescale=1./255)\n"
   ]
  },
  {
   "cell_type": "code",
   "execution_count": 7,
   "metadata": {},
   "outputs": [],
   "source": [
    "if False:\n",
    "    save_to_dir='augmented_images/'\n",
    "else:\n",
    "    save_to_dir = None"
   ]
  },
  {
   "cell_type": "code",
   "execution_count": 8,
   "metadata": {},
   "outputs": [
    {
     "data": {
      "text/plain": [
       "'Deep_Learning_Model_for_Malimg_size_GrayScale=(224, 224)'"
      ]
     },
     "execution_count": 8,
     "metadata": {},
     "output_type": "execute_result"
    }
   ],
   "source": [
    "input_shape=(224,224)\n",
    "batch_size=32\n",
    "save_fn='Deep_Learning_Model_for_Malimg_size_GrayScale='+str(input_shape[:])\n",
    "save_fn"
   ]
  },
  {
   "cell_type": "code",
   "execution_count": 9,
   "metadata": {},
   "outputs": [
    {
     "name": "stdout",
     "output_type": "stream",
     "text": [
      "Found 6527 images belonging to 25 classes.\n",
      "Steps for Training 203.96875\n",
      "[ 0  0  0 ..., 24 24 24]\n",
      "['Adialer.C', 'Agent.FYI', 'Allaple.A', 'Allaple.L', 'Alueron.gen!J', 'Autorun.K', 'C2LOP.P', 'C2LOP.gen!g', 'Dialplatform.B', 'Dontovo.A', 'Fakerean', 'Instantaccess', 'Lolyda.AA1', 'Lolyda.AA2', 'Lolyda.AA3', 'Lolyda.AT', 'Malex.gen!J', 'ObfuscatorAD', 'Rbot!gen', 'Skintrim.N', 'Swizzorgen!E', 'Swizzorgen!I', 'VB.AT', 'Wintrim.BX', 'Yuner.A']\n",
      "Number of Classes in Training Data 25\n"
     ]
    }
   ],
   "source": [
    "generator_train = datagen_train.flow_from_directory(directory=train_path,\n",
    "                                                    target_size=input_shape,\n",
    "                                                    batch_size=batch_size,\n",
    "                                                    shuffle=True,\n",
    "                                                    seed=42)\n",
    "\n",
    "\n",
    "steps_train = generator_train.n/ batch_size\n",
    "print(\"Steps for Training\",steps_train)\n",
    "\n",
    "cls_train = generator_train.classes\n",
    "print(cls_train)\n",
    "cls_names_train = list(generator_train.class_indices.keys())\n",
    "print(cls_names_train)\n",
    "num_cls_train = len(cls_names_train)\n",
    "print(\"Number of Classes in Training Data\",num_cls_train)"
   ]
  },
  {
   "cell_type": "raw",
   "metadata": {},
   "source": [
    "class_dictionary_train = generator_train.class_indices\n",
    "class_dictionary_train"
   ]
  },
  {
   "cell_type": "code",
   "execution_count": 10,
   "metadata": {},
   "outputs": [
    {
     "data": {
      "text/plain": [
       "['AdialerC',\n",
       " 'AgentFYI',\n",
       " 'AllapleA',\n",
       " 'AllapleL',\n",
       " 'Aluerongen!J',\n",
       " 'AutorunK',\n",
       " 'C2LOPP',\n",
       " 'C2LOPgen!g',\n",
       " 'DialplatformB',\n",
       " 'DontovoA',\n",
       " 'Fakerean',\n",
       " 'Instantaccess',\n",
       " 'LolydaAA1',\n",
       " 'LolydaAA2',\n",
       " 'LolydaAA3',\n",
       " 'LolydaAT',\n",
       " 'Malexgen!J',\n",
       " 'ObfuscatorAD',\n",
       " 'Rbot!gen',\n",
       " 'SkintrimN',\n",
       " 'Swizzorgen!E',\n",
       " 'Swizzorgen!I',\n",
       " 'VBAT',\n",
       " 'WintrimBX',\n",
       " 'YunerA']"
      ]
     },
     "execution_count": 10,
     "metadata": {},
     "output_type": "execute_result"
    }
   ],
   "source": [
    "#cls_names_train\n",
    "class_labels = ['AdialerC','AgentFYI','AllapleA','AllapleL','Aluerongen!J','AutorunK','C2LOPP','C2LOPgen!g','DialplatformB','DontovoA',\n",
    " 'Fakerean','Instantaccess','LolydaAA1','LolydaAA2','LolydaAA3','LolydaAT','Malexgen!J','ObfuscatorAD','Rbot!gen','SkintrimN',\n",
    " 'Swizzorgen!E','Swizzorgen!I','VBAT','WintrimBX','YunerA']\n",
    "class_labels"
   ]
  },
  {
   "cell_type": "code",
   "execution_count": 11,
   "metadata": {},
   "outputs": [
    {
     "name": "stdout",
     "output_type": "stream",
     "text": [
      "Found 2812 images belonging to 25 classes.\n",
      "Steps for Test 87.875\n",
      "[ 0  0  0 ..., 24 24 24]\n",
      "['Adialer.C', 'Agent.FYI', 'Allaple.A', 'Allaple.L', 'Alueron.gen!J', 'Autorun.K', 'C2LOP.P', 'C2LOP.gen!g', 'Dialplatform.B', 'Dontovo.A', 'Fakerean', 'Instantaccess', 'Lolyda.AA1', 'Lolyda.AA2', 'Lolyda.AA3', 'Lolyda.AT', 'Malex.gen!J', 'ObfuscatorAD', 'Rbot!gen', 'Skintrim.N', 'Swizzorgen!E', 'Swizzorgen!I', 'VB.AT', 'Wintrim.BX', 'Yuner.A']\n",
      "Number of Classes in Test Data 25\n"
     ]
    }
   ],
   "source": [
    "generator_test = datagen_test.flow_from_directory(directory=test_path,\n",
    "                                                  target_size=input_shape,\n",
    "                                                  batch_size=batch_size,\n",
    "                                                  shuffle=False,\n",
    "                                                  seed=42)\n",
    "\n",
    "steps_test = generator_test.n / batch_size\n",
    "steps_test\n",
    "print(\"Steps for Test\",steps_test)\n",
    "\n",
    "cls_test = generator_test.classes\n",
    "print(cls_test)\n",
    "cls_names_test = list(generator_test.class_indices.keys())\n",
    "print(cls_names_test)\n",
    "num_cls_test = len(cls_names_test)\n",
    "print(\"Number of Classes in Test Data\",num_cls_test)"
   ]
  },
  {
   "cell_type": "code",
   "execution_count": 12,
   "metadata": {},
   "outputs": [
    {
     "data": {
      "text/plain": [
       "{'Adialer.C': 0,\n",
       " 'Agent.FYI': 1,\n",
       " 'Allaple.A': 2,\n",
       " 'Allaple.L': 3,\n",
       " 'Alueron.gen!J': 4,\n",
       " 'Autorun.K': 5,\n",
       " 'C2LOP.P': 6,\n",
       " 'C2LOP.gen!g': 7,\n",
       " 'Dialplatform.B': 8,\n",
       " 'Dontovo.A': 9,\n",
       " 'Fakerean': 10,\n",
       " 'Instantaccess': 11,\n",
       " 'Lolyda.AA1': 12,\n",
       " 'Lolyda.AA2': 13,\n",
       " 'Lolyda.AA3': 14,\n",
       " 'Lolyda.AT': 15,\n",
       " 'Malex.gen!J': 16,\n",
       " 'ObfuscatorAD': 17,\n",
       " 'Rbot!gen': 18,\n",
       " 'Skintrim.N': 19,\n",
       " 'Swizzorgen!E': 20,\n",
       " 'Swizzorgen!I': 21,\n",
       " 'VB.AT': 22,\n",
       " 'Wintrim.BX': 23,\n",
       " 'Yuner.A': 24}"
      ]
     },
     "execution_count": 12,
     "metadata": {},
     "output_type": "execute_result"
    }
   ],
   "source": [
    "class_dictionary_test = generator_test.class_indices\n",
    "class_dictionary_test"
   ]
  },
  {
   "cell_type": "code",
   "execution_count": 13,
   "metadata": {},
   "outputs": [],
   "source": [
    "model_ = keras.applications.vgg16.VGG16()#include_top=True, weights=None, input_tensor=None, input_shape=(224,224,1), classes=num_cls_train)"
   ]
  },
  {
   "cell_type": "code",
   "execution_count": 14,
   "metadata": {},
   "outputs": [],
   "source": [
    "transfer_layer = model_.get_layer('fc2')"
   ]
  },
  {
   "cell_type": "code",
   "execution_count": 15,
   "metadata": {},
   "outputs": [
    {
     "data": {
      "text/plain": [
       "<tf.Tensor 'fc2/Relu:0' shape=(?, 4096) dtype=float32>"
      ]
     },
     "execution_count": 15,
     "metadata": {},
     "output_type": "execute_result"
    }
   ],
   "source": [
    "transfer_layer.output"
   ]
  },
  {
   "cell_type": "code",
   "execution_count": 16,
   "metadata": {},
   "outputs": [],
   "source": [
    "conv_model = Model(inputs=model_.input,\n",
    "                   outputs=transfer_layer.output)"
   ]
  },
  {
   "cell_type": "code",
   "execution_count": 17,
   "metadata": {},
   "outputs": [
    {
     "name": "stdout",
     "output_type": "stream",
     "text": [
      "_________________________________________________________________\n",
      "Layer (type)                 Output Shape              Param #   \n",
      "=================================================================\n",
      "input_1 (InputLayer)         (None, 224, 224, 3)       0         \n",
      "_________________________________________________________________\n",
      "block1_conv1 (Conv2D)        (None, 224, 224, 64)      1792      \n",
      "_________________________________________________________________\n",
      "block1_conv2 (Conv2D)        (None, 224, 224, 64)      36928     \n",
      "_________________________________________________________________\n",
      "block1_pool (MaxPooling2D)   (None, 112, 112, 64)      0         \n",
      "_________________________________________________________________\n",
      "block2_conv1 (Conv2D)        (None, 112, 112, 128)     73856     \n",
      "_________________________________________________________________\n",
      "block2_conv2 (Conv2D)        (None, 112, 112, 128)     147584    \n",
      "_________________________________________________________________\n",
      "block2_pool (MaxPooling2D)   (None, 56, 56, 128)       0         \n",
      "_________________________________________________________________\n",
      "block3_conv1 (Conv2D)        (None, 56, 56, 256)       295168    \n",
      "_________________________________________________________________\n",
      "block3_conv2 (Conv2D)        (None, 56, 56, 256)       590080    \n",
      "_________________________________________________________________\n",
      "block3_conv3 (Conv2D)        (None, 56, 56, 256)       590080    \n",
      "_________________________________________________________________\n",
      "block3_pool (MaxPooling2D)   (None, 28, 28, 256)       0         \n",
      "_________________________________________________________________\n",
      "block4_conv1 (Conv2D)        (None, 28, 28, 512)       1180160   \n",
      "_________________________________________________________________\n",
      "block4_conv2 (Conv2D)        (None, 28, 28, 512)       2359808   \n",
      "_________________________________________________________________\n",
      "block4_conv3 (Conv2D)        (None, 28, 28, 512)       2359808   \n",
      "_________________________________________________________________\n",
      "block4_pool (MaxPooling2D)   (None, 14, 14, 512)       0         \n",
      "_________________________________________________________________\n",
      "block5_conv1 (Conv2D)        (None, 14, 14, 512)       2359808   \n",
      "_________________________________________________________________\n",
      "block5_conv2 (Conv2D)        (None, 14, 14, 512)       2359808   \n",
      "_________________________________________________________________\n",
      "block5_conv3 (Conv2D)        (None, 14, 14, 512)       2359808   \n",
      "_________________________________________________________________\n",
      "block5_pool (MaxPooling2D)   (None, 7, 7, 512)         0         \n",
      "_________________________________________________________________\n",
      "flatten (Flatten)            (None, 25088)             0         \n",
      "_________________________________________________________________\n",
      "fc1 (Dense)                  (None, 4096)              102764544 \n",
      "_________________________________________________________________\n",
      "fc2 (Dense)                  (None, 4096)              16781312  \n",
      "=================================================================\n",
      "Total params: 134,260,544\n",
      "Trainable params: 134,260,544\n",
      "Non-trainable params: 0\n",
      "_________________________________________________________________\n"
     ]
    }
   ],
   "source": [
    "conv_model.summary()"
   ]
  },
  {
   "cell_type": "code",
   "execution_count": 18,
   "metadata": {},
   "outputs": [],
   "source": [
    "# Start a new Keras Sequential model.\n",
    "model = Sequential()\n",
    "\n",
    "# Add the convolutional part of the VGG16 model from above.\n",
    "model.add(conv_model)\n",
    "\n",
    "# Flatten the output of the VGG16 model because it is from a\n",
    "# convolutional layer.\n",
    "#model.add(Flatten())\n",
    "\n",
    "# Add a dense (aka. fully-connected) layer.\n",
    "# This is for combining features that the VGG16 model has\n",
    "# recognized in the image.\n",
    "#model.add(Dense(1024, activation='relu'))\n",
    "\n",
    "# Add a dropout-layer which may prevent overfitting and\n",
    "# improve generalization ability to unseen data e.g. the test-set.\n",
    "#model.add(Dropout(0.5))\n",
    "\n",
    "# Add the final layer for the actual classification.\n",
    "model.add(Dense(num_cls_train, activation='softmax'))"
   ]
  },
  {
   "cell_type": "code",
   "execution_count": 19,
   "metadata": {},
   "outputs": [
    {
     "name": "stdout",
     "output_type": "stream",
     "text": [
      "_________________________________________________________________\n",
      "Layer (type)                 Output Shape              Param #   \n",
      "=================================================================\n",
      "model_1 (Model)              (None, 4096)              134260544 \n",
      "_________________________________________________________________\n",
      "dense_1 (Dense)              (None, 25)                102425    \n",
      "=================================================================\n",
      "Total params: 134,362,969\n",
      "Trainable params: 134,362,969\n",
      "Non-trainable params: 0\n",
      "_________________________________________________________________\n"
     ]
    }
   ],
   "source": [
    "model.summary()"
   ]
  },
  {
   "cell_type": "code",
   "execution_count": 20,
   "metadata": {},
   "outputs": [],
   "source": [
    "\n",
    "#model.load_weights('Deep_Learning_Model_for_Malimg_size=(192, 192)_Weights.hdf5')\n",
    "model.compile(Adam(lr=0.0001),loss='categorical_crossentropy', metrics=['accuracy'])\n"
   ]
  },
  {
   "cell_type": "code",
   "execution_count": 21,
   "metadata": {},
   "outputs": [],
   "source": [
    "epochs =10\n",
    "steps_per_epoch=steps_train"
   ]
  },
  {
   "cell_type": "code",
   "execution_count": 22,
   "metadata": {},
   "outputs": [
    {
     "name": "stdout",
     "output_type": "stream",
     "text": [
      "Epoch 1/10\n",
      "204/203 [==============================] - 89s 438ms/step - loss: 0.5495 - acc: 0.8627 - val_loss: 0.1295 - val_acc: 0.9595\n",
      "Epoch 2/10\n",
      "204/203 [==============================] - 75s 365ms/step - loss: 0.1247 - acc: 0.9595 - val_loss: 0.2309 - val_acc: 0.9470\n",
      "Epoch 3/10\n",
      "204/203 [==============================] - 74s 363ms/step - loss: 0.4317 - acc: 0.9064 - val_loss: 0.1460 - val_acc: 0.9563\n",
      "Epoch 4/10\n",
      "204/203 [==============================] - 74s 361ms/step - loss: 0.0944 - acc: 0.9691 - val_loss: 0.0931 - val_acc: 0.9708\n",
      "Epoch 5/10\n",
      "204/203 [==============================] - 74s 364ms/step - loss: 0.0693 - acc: 0.9764 - val_loss: 0.0840 - val_acc: 0.9730\n",
      "Epoch 6/10\n",
      "204/203 [==============================] - 74s 363ms/step - loss: 0.1548 - acc: 0.9611 - val_loss: 0.1194 - val_acc: 0.9609\n",
      "Epoch 7/10\n",
      "204/203 [==============================] - 75s 366ms/step - loss: 0.0943 - acc: 0.9692 - val_loss: 0.1537 - val_acc: 0.9591\n",
      "Epoch 8/10\n",
      "204/203 [==============================] - 74s 362ms/step - loss: 0.1669 - acc: 0.9611 - val_loss: 0.6924 - val_acc: 0.7820\n",
      "Epoch 9/10\n",
      "204/203 [==============================] - 74s 361ms/step - loss: 0.1404 - acc: 0.9574 - val_loss: 0.1071 - val_acc: 0.9694\n",
      "Epoch 10/10\n",
      "204/203 [==============================] - 74s 363ms/step - loss: 0.0684 - acc: 0.9769 - val_loss: 0.1038 - val_acc: 0.9730\n"
     ]
    }
   ],
   "source": [
    "from keras.callbacks import ModelCheckpoint\n",
    "from keras.callbacks import TensorBoard\n",
    "from keras.callbacks import ReduceLROnPlateau\n",
    "from keras.callbacks import EarlyStopping\n",
    "from keras.callbacks import RemoteMonitor\n",
    "\n",
    "\n",
    "\n",
    "history = model.fit_generator(generator=generator_train,\n",
    "                                epochs=epochs,\n",
    "                                steps_per_epoch=steps_per_epoch,\n",
    "                                validation_data=generator_test,\n",
    "                                validation_steps=steps_test\n",
    "                                )\n",
    "\n",
    "\n"
   ]
  },
  {
   "cell_type": "raw",
   "metadata": {},
   "source": [
    "model.save(\"Original-VGG16-Grayscale.h5\")"
   ]
  },
  {
   "cell_type": "raw",
   "metadata": {},
   "source": [
    "#####################################\n",
    "# write Traning History to a file\n",
    "output = open(\"Original-VGG16-Grayscale-History.pkl\", 'wb')\n",
    "pickle.dump(history.history, output)\n",
    "output.close()\n",
    "#####################################"
   ]
  },
  {
   "cell_type": "code",
   "execution_count": 2,
   "metadata": {},
   "outputs": [],
   "source": [
    "\n",
    "# read Traning History back from the file\n",
    "pkl_file = open(\"Original-VGG16-Grayscale-History.pkl\", 'rb')\n",
    "history = pickle.load(pkl_file)\n",
    "pkl_file.close()"
   ]
  },
  {
   "cell_type": "code",
   "execution_count": 3,
   "metadata": {},
   "outputs": [],
   "source": [
    "import pandas as pd\n",
    "# convert the history.history dict to a pandas DataFrame:     \n",
    "hist_df = pd.DataFrame(history) \n",
    "\n",
    "csv_file = 'Original-VGG16-Grayscale-History.csv'\n",
    "with open(csv_file, mode='w') as f:\n",
    "    hist_df.to_csv(f)"
   ]
  },
  {
   "cell_type": "code",
   "execution_count": 26,
   "metadata": {},
   "outputs": [
    {
     "name": "stdout",
     "output_type": "stream",
     "text": [
      "88/88 [==============================] - 11s 127ms/step\n",
      "acc: 97.30%\n"
     ]
    }
   ],
   "source": [
    "#scores = model.evaluate(X[test], Y[test], verbose=0)\n",
    "#model.load_weights('Model_VGG16_Malimg_RGB_Trained_(229, 229)_Epochs=100_Model_Traning_Testing_Weights.hdf5')\n",
    "scores = model.evaluate_generator(generator_test, verbose=1)# steps_test, max_queue_size=10, workers=1, use_multiprocessing=False,verbose=1)\n",
    "print(\"%s: %.2f%%\" % (model.metrics_names[1], scores[1]*100))"
   ]
  },
  {
   "cell_type": "code",
   "execution_count": 27,
   "metadata": {},
   "outputs": [
    {
     "name": "stdout",
     "output_type": "stream",
     "text": [
      "88/88 [==============================] - 12s 131ms/step\n"
     ]
    }
   ],
   "source": [
    "cls_pred = model.predict_generator(generator_test, verbose=1)#, steps_test, max_queue_size=10, workers=1, use_multiprocessing=False, verbose=1)"
   ]
  },
  {
   "cell_type": "code",
   "execution_count": 28,
   "metadata": {},
   "outputs": [],
   "source": [
    "cls_pred = np.argmax(cls_pred, axis=1)"
   ]
  },
  {
   "cell_type": "code",
   "execution_count": 29,
   "metadata": {},
   "outputs": [],
   "source": [
    "y_test = cls_test = generator_test.classes\n",
    "\n",
    "from pycm import ConfusionMatrix\n",
    "CM_IMCFN = ConfusionMatrix(y_test,cls_pred)\n",
    "file = open('CM-Original-VGG16-Grayscale.pkl', 'wb')\n",
    "pickle.dump(CM_IMCFN, file)\n",
    "file.close()"
   ]
  },
  {
   "cell_type": "code",
   "execution_count": 30,
   "metadata": {},
   "outputs": [],
   "source": [
    "# write Traning History to a file\n",
    "file = open('CM-Original-VGG16-Grayscale.pkl', 'rb')\n",
    "CM_IMCFN = pickle.load(file)\n",
    "file.close()"
   ]
  },
  {
   "cell_type": "code",
   "execution_count": 31,
   "metadata": {},
   "outputs": [
    {
     "name": "stdout",
     "output_type": "stream",
     "text": [
      "Overall Statistics : \n",
      "\n",
      "ACC Macro                                                         0.99784\n",
      "F1 Macro                                                          0.91817\n",
      "Kappa                                                             0.96831\n",
      "Overall ACC                                                       0.97297\n",
      "PPV Macro                                                         None\n",
      "SOA1(Landis & Koch)                                               Almost Perfect\n",
      "TPR Macro                                                         0.92017\n",
      "Zero-one Loss                                                     76\n",
      "\n",
      "Class Statistics :\n",
      "\n",
      "Classes                                                           0             1             10            11            12            13            14            15            16            17            18            19            2             20            21            22            23            24            3             4             5             6             7             8             9             \n",
      "ACC(Accuracy)                                                     1.0           1.0           0.99964       1.0           0.99858       0.99929       1.0           0.99964       0.99964       1.0           0.99964       1.0           0.99858       0.9936        0.9904        0.99964       0.99964       0.98862       1.0           1.0           0.98862       0.99431       0.9968        0.99929       1.0           \n",
      "AUC(Area under the ROC curve)                                     1.0           1.0           0.99565       1.0           0.99927       0.98214       1.0           0.99982       0.9878        1.0           0.98958       1.0           0.99896       0.88299       0.77338       0.99593       0.99982       0.99378       1.0           1.0           0.5           0.94119       0.96576       0.98148       1.0           \n",
      "AUCI(AUC value interpretation)                                    Excellent     Excellent     Excellent     Excellent     Excellent     Excellent     Excellent     Excellent     Excellent     Excellent     Excellent     Excellent     Excellent     Very Good     Good          Excellent     Excellent     Excellent     Excellent     Excellent     Poor          Excellent     Excellent     Excellent     Excellent     \n",
      "F1(F1 score - harmonic mean of precision and sensitivity)         1.0           1.0           0.99563       1.0           0.9697        0.98182       1.0           0.98969       0.98765       1.0           0.98947       1.0           0.99775       0.76923       0.61972       0.99592       0.98361       0.9375        1.0           1.0           0.0           0.82979       0.92562       0.98113       1.0           \n",
      "FN(False negative/miss/type 2 error)                              0             0             1             0             0             2             0             0             1             0             1             0             0             9             18            1             0             0             0             0             32            5             4             2             0             \n",
      "FP(False positive/type 1 error/false alarm)                       0             0             0             0             4             0             0             1             0             0             0             0             4             9             9             0             1             32            0             0             0             11            5             0             0             \n",
      "N(Condition negative)                                             2775          2777          2697          2682          2748          2756          2775          2764          2771          2769          2764          2788          1927          2773          2772          2689          2782          2572          2334          2752          2780          2768          2752          2758          2763          \n",
      "P(Condition positive or support)                                  37            35            115           130           64            56            37            48            41            43            48            24            885           39            40            123           30            240           478           60            32            44            60            54            49            \n",
      "POP(Population)                                                   2812          2812          2812          2812          2812          2812          2812          2812          2812          2812          2812          2812          2812          2812          2812          2812          2812          2812          2812          2812          2812          2812          2812          2812          2812          \n",
      "PPV(Precision or positive predictive value)                       1.0           1.0           1.0           1.0           0.94118       1.0           1.0           0.97959       1.0           1.0           1.0           1.0           0.9955        0.76923       0.70968       1.0           0.96774       0.88235       1.0           1.0           None          0.78          0.91803       1.0           1.0           \n",
      "TN(True negative/correct rejection)                               2775          2777          2697          2682          2744          2756          2775          2763          2771          2769          2764          2788          1923          2764          2763          2689          2781          2540          2334          2752          2780          2757          2747          2758          2763          \n",
      "TON(Test outcome negative)                                        2775          2777          2698          2682          2744          2758          2775          2763          2772          2769          2765          2788          1923          2773          2781          2690          2781          2540          2334          2752          2812          2762          2751          2760          2763          \n",
      "TOP(Test outcome positive)                                        37            35            114           130           68            54            37            49            40            43            47            24            889           39            31            122           31            272           478           60            0             50            61            52            49            \n",
      "TP(True positive/hit)                                             37            35            114           130           64            54            37            48            40            43            47            24            885           30            22            122           30            240           478           60            0             39            56            52            49            \n",
      "TPR(Sensitivity, recall, hit rate, or true positive rate)         1.0           1.0           0.9913        1.0           1.0           0.96429       1.0           1.0           0.97561       1.0           0.97917       1.0           1.0           0.76923       0.55          0.99187       1.0           1.0           1.0           1.0           0.0           0.88636       0.93333       0.96296       1.0           \n",
      "\n"
     ]
    },
    {
     "name": "stderr",
     "output_type": "stream",
     "text": [
      "/home/danish/anaconda3/envs/tf/lib/python3.6/site-packages/pycm/pycm_obj.py:167: RuntimeWarning: The confusion matrix is a high dimension matrix and won't be demonstrated properly.\n",
      "The save_csv method can be used to save the confusion matrix in csv format and have a better demonstration of it.\n",
      "  warn(CLASS_NUMBER_WARNING, RuntimeWarning)\n"
     ]
    }
   ],
   "source": [
    "CM_IMCFN.stat(summary=True)"
   ]
  },
  {
   "cell_type": "code",
   "execution_count": 32,
   "metadata": {},
   "outputs": [
    {
     "data": {
      "text/plain": [
       "{'Status': True,\n",
       " 'Message': '/data/danish/ImgProPython/TensorFlow-Tutorials/Computer-Networks-(CCF-B)/Original-VGG16-Grayscale/CM-Original-VGG16-Grayscale.csv'}"
      ]
     },
     "execution_count": 32,
     "metadata": {},
     "output_type": "execute_result"
    }
   ],
   "source": [
    "CM_IMCFN.save_csv(\"CM-Original-VGG16-Grayscale\",address=True)"
   ]
  },
  {
   "cell_type": "code",
   "execution_count": 33,
   "metadata": {},
   "outputs": [
    {
     "name": "stdout",
     "output_type": "stream",
     "text": [
      "All Classes\n",
      "Precision:  [ 1.          1.          0.99550056  1.          1.          0.          0.78\n",
      "  0.91803279  1.          1.          1.          1.          0.94117647\n",
      "  1.          1.          0.97959184  1.          1.          1.          1.\n",
      "  0.76923077  0.70967742  1.          0.96774194  0.88235294]\n",
      "Recall:  [ 1.          1.          1.          1.          1.          0.\n",
      "  0.88636364  0.93333333  0.96296296  1.          0.99130435  1.          1.\n",
      "  0.96428571  1.          1.          0.97560976  1.          0.97916667\n",
      "  1.          0.76923077  0.55        0.99186992  1.          1.        ]\n",
      "F1 score:  [ 1.          1.          0.99774521  1.          1.          0.\n",
      "  0.82978723  0.92561983  0.98113208  1.          0.99563319  1.\n",
      "  0.96969697  0.98181818  1.          0.98969072  0.98765432  1.\n",
      "  0.98947368  1.          0.76923077  0.61971831  0.99591837  0.98360656\n",
      "  0.9375    ]\n",
      "CPU times: user 12.3 ms, sys: 33 µs, total: 12.3 ms\n",
      "Wall time: 11.6 ms\n"
     ]
    },
    {
     "name": "stderr",
     "output_type": "stream",
     "text": [
      "/home/danish/anaconda3/envs/tf/lib/python3.6/site-packages/sklearn/metrics/classification.py:1437: UndefinedMetricWarning: Precision and F-score are ill-defined and being set to 0.0 in labels with no predicted samples.\n",
      "  'precision', 'predicted', average, warn_for)\n"
     ]
    }
   ],
   "source": [
    "%%time\n",
    "from sklearn.metrics import precision_recall_fscore_support, accuracy_score\n",
    "cls_true = cls_test = generator_test.classes\n",
    "accuracy = accuracy_score(cls_true, cls_pred)\n",
    "precision, recall, f1_score, _ = precision_recall_fscore_support(cls_true, cls_pred, average=None)\n",
    "\n",
    "print(\"All Classes\")\n",
    "print(\"Precision: \", precision)\n",
    "print(\"Recall: \", recall)\n",
    "print(\"F1 score: \", f1_score)"
   ]
  },
  {
   "cell_type": "code",
   "execution_count": 34,
   "metadata": {},
   "outputs": [
    {
     "name": "stdout",
     "output_type": "stream",
     "text": [
      "Micro\n",
      "Precision:  0.972972972973\n",
      "Recall:  0.972972972973\n",
      "F1 score:  0.972972972973\n",
      "CPU times: user 4.49 ms, sys: 0 ns, total: 4.49 ms\n",
      "Wall time: 6.41 ms\n"
     ]
    }
   ],
   "source": [
    "%%time\n",
    "from sklearn.metrics import precision_recall_fscore_support, accuracy_score\n",
    "cls_true = cls_test = generator_test.classes\n",
    "accuracy = accuracy_score(cls_true, cls_pred)\n",
    "precision, recall, f1_score, _ = precision_recall_fscore_support(cls_true, cls_pred, average='micro')\n",
    "\n",
    "print(\"Micro\")\n",
    "print(\"Precision: \", precision)\n",
    "print(\"Recall: \", recall)\n",
    "print(\"F1 score: \", f1_score)"
   ]
  },
  {
   "cell_type": "code",
   "execution_count": 35,
   "metadata": {},
   "outputs": [
    {
     "name": "stdout",
     "output_type": "stream",
     "text": [
      "Macro\n",
      "Precision:  0.917732188875\n",
      "Recall:  0.920165084219\n",
      "F1 score:  0.91816901691\n",
      "CPU times: user 3.78 ms, sys: 0 ns, total: 3.78 ms\n",
      "Wall time: 3.79 ms\n"
     ]
    }
   ],
   "source": [
    "%%time\n",
    "from sklearn.metrics import precision_recall_fscore_support, accuracy_score\n",
    "cls_true = cls_test = generator_test.classes\n",
    "accuracy = accuracy_score(cls_true, cls_pred)\n",
    "precision, recall, f1_score, _ = precision_recall_fscore_support(cls_true, cls_pred, average='macro')\n",
    "\n",
    "print(\"Macro\")\n",
    "print(\"Precision: \", precision)\n",
    "print(\"Recall: \", recall)\n",
    "print(\"F1 score: \", f1_score)"
   ]
  },
  {
   "cell_type": "code",
   "execution_count": 36,
   "metadata": {},
   "outputs": [
    {
     "name": "stdout",
     "output_type": "stream",
     "text": [
      "weighted\n",
      "Precision:  0.96261014508\n",
      "Recall:  0.972972972973\n",
      "F1 score:  0.967234110176\n",
      "CPU times: user 4.43 ms, sys: 0 ns, total: 4.43 ms\n",
      "Wall time: 4.25 ms\n"
     ]
    }
   ],
   "source": [
    "%%time\n",
    "from sklearn.metrics import precision_recall_fscore_support, accuracy_score\n",
    "cls_true = cls_test = generator_test.classes\n",
    "accuracy = accuracy_score(cls_true, cls_pred)\n",
    "precision, recall, f1_score, _ = precision_recall_fscore_support(cls_true, cls_pred, average='weighted')\n",
    "\n",
    "print(\"weighted\")\n",
    "print(\"Precision: \", precision)\n",
    "print(\"Recall: \", recall)\n",
    "print(\"F1 score: \", f1_score)"
   ]
  },
  {
   "cell_type": "code",
   "execution_count": null,
   "metadata": {},
   "outputs": [],
   "source": []
  },
  {
   "cell_type": "code",
   "execution_count": null,
   "metadata": {},
   "outputs": [],
   "source": []
  },
  {
   "cell_type": "code",
   "execution_count": null,
   "metadata": {},
   "outputs": [],
   "source": []
  },
  {
   "cell_type": "code",
   "execution_count": null,
   "metadata": {},
   "outputs": [],
   "source": []
  }
 ],
 "metadata": {
  "kernelspec": {
   "display_name": "Python 3",
   "language": "python",
   "name": "python3"
  },
  "language_info": {
   "codemirror_mode": {
    "name": "ipython",
    "version": 3
   },
   "file_extension": ".py",
   "mimetype": "text/x-python",
   "name": "python",
   "nbconvert_exporter": "python",
   "pygments_lexer": "ipython3",
   "version": "3.6.0"
  }
 },
 "nbformat": 4,
 "nbformat_minor": 2
}
